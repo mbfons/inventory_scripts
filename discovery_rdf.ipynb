{
  "nbformat": 4,
  "nbformat_minor": 0,
  "metadata": {
    "colab": {
      "provenance": [],
      "toc_visible": true,
      "authorship_tag": "ABX9TyM7sAxhNsU1HXihOCoARqVI",
      "include_colab_link": true
    },
    "kernelspec": {
      "name": "python3",
      "display_name": "Python 3"
    },
    "language_info": {
      "name": "python"
    }
  },
  "cells": [
    {
      "cell_type": "markdown",
      "metadata": {
        "id": "view-in-github",
        "colab_type": "text"
      },
      "source": [
        "<a href=\"https://colab.research.google.com/github/mbfons/inventory_scripts/blob/master/discovery_rdf.ipynb\" target=\"_parent\"><img src=\"https://colab.research.google.com/assets/colab-badge.svg\" alt=\"Open In Colab\"/></a>"
      ]
    },
    {
      "cell_type": "code",
      "source": [
        "# https://rdflib.readthedocs.io/en/stable/intro_to_parsing.html"
      ],
      "metadata": {
        "id": "QovoNVCYTwGy"
      },
      "execution_count": null,
      "outputs": []
    },
    {
      "cell_type": "code",
      "source": [
        "!pip install rdflib"
      ],
      "metadata": {
        "colab": {
          "base_uri": "https://localhost:8080/"
        },
        "id": "b2sCwlbYNyXY",
        "outputId": "932c679a-8b78-422c-ea16-54f6ccd27644"
      },
      "execution_count": null,
      "outputs": [
        {
          "output_type": "stream",
          "name": "stdout",
          "text": [
            "Collecting rdflib\n",
            "  Downloading rdflib-7.0.0-py3-none-any.whl (531 kB)\n",
            "\u001b[2K     \u001b[90m━━━━━━━━━━━━━━━━━━━━━━━━━━━━━━━━━━━━━━━━\u001b[0m \u001b[32m531.9/531.9 kB\u001b[0m \u001b[31m7.8 MB/s\u001b[0m eta \u001b[36m0:00:00\u001b[0m\n",
            "\u001b[?25hCollecting isodate<0.7.0,>=0.6.0 (from rdflib)\n",
            "  Downloading isodate-0.6.1-py2.py3-none-any.whl (41 kB)\n",
            "\u001b[2K     \u001b[90m━━━━━━━━━━━━━━━━━━━━━━━━━━━━━━━━━━━━━━━━\u001b[0m \u001b[32m41.7/41.7 kB\u001b[0m \u001b[31m5.3 MB/s\u001b[0m eta \u001b[36m0:00:00\u001b[0m\n",
            "\u001b[?25hRequirement already satisfied: pyparsing<4,>=2.1.0 in /usr/local/lib/python3.10/dist-packages (from rdflib) (3.1.1)\n",
            "Requirement already satisfied: six in /usr/local/lib/python3.10/dist-packages (from isodate<0.7.0,>=0.6.0->rdflib) (1.16.0)\n",
            "Installing collected packages: isodate, rdflib\n",
            "Successfully installed isodate-0.6.1 rdflib-7.0.0\n"
          ]
        }
      ]
    },
    {
      "cell_type": "markdown",
      "source": [
        "### Import"
      ],
      "metadata": {
        "id": "Ua55VQpUP5Q0"
      }
    },
    {
      "cell_type": "code",
      "execution_count": null,
      "metadata": {
        "id": "8uw1dW3JMb2F"
      },
      "outputs": [],
      "source": [
        "from rdflib import Graph"
      ]
    },
    {
      "cell_type": "markdown",
      "source": [
        "## Load file from url"
      ],
      "metadata": {
        "id": "_JsXrAP7rWBG"
      }
    },
    {
      "cell_type": "code",
      "source": [
        "myg = Graph()\n",
        "#myg.parse('http://danbri.org/foaf.rdf#')"
      ],
      "metadata": {
        "id": "8gRpEHLBraWD"
      },
      "execution_count": null,
      "outputs": []
    },
    {
      "cell_type": "markdown",
      "source": [
        "### Load Turtle file"
      ],
      "metadata": {
        "id": "s4isqPmWQBmZ"
      }
    },
    {
      "cell_type": "code",
      "source": [
        "mygraph = Graph()"
      ],
      "metadata": {
        "id": "_zvlvmV6NxUb"
      },
      "execution_count": null,
      "outputs": []
    },
    {
      "cell_type": "code",
      "source": [
        "mygraph.parse('bees.ttl',format='ttl')"
      ],
      "metadata": {
        "colab": {
          "base_uri": "https://localhost:8080/"
        },
        "id": "O-x7e9cvN5vd",
        "outputId": "d23d67b1-08d4-430f-8061-964f7a123608"
      },
      "execution_count": null,
      "outputs": [
        {
          "output_type": "execute_result",
          "data": {
            "text/plain": [
              "<Graph identifier=N05d94fc3560046efa967250713750289 (<class 'rdflib.graph.Graph'>)>"
            ]
          },
          "metadata": {},
          "execution_count": 15
        }
      ]
    },
    {
      "cell_type": "markdown",
      "source": [
        "### View Turtle file"
      ],
      "metadata": {
        "id": "VnYcOVGJQENv"
      }
    },
    {
      "cell_type": "code",
      "source": [
        "print(len(mygraph))"
      ],
      "metadata": {
        "colab": {
          "base_uri": "https://localhost:8080/"
        },
        "id": "uMLA99t6OFA1",
        "outputId": "286281e4-d976-4d99-9b7d-bbd2b233844c"
      },
      "execution_count": null,
      "outputs": [
        {
          "output_type": "stream",
          "name": "stdout",
          "text": [
            "4\n"
          ]
        }
      ]
    },
    {
      "cell_type": "code",
      "source": [
        "for stmt in mygraph:\n",
        "    print(stmt)"
      ],
      "metadata": {
        "colab": {
          "base_uri": "https://localhost:8080/"
        },
        "id": "0gaApYFBPp_n",
        "outputId": "b60628c6-a62c-4174-f494-8515fdbafa5d"
      },
      "execution_count": null,
      "outputs": [
        {
          "output_type": "stream",
          "name": "stdout",
          "text": [
            "(rdflib.term.URIRef('https://data.gov.gr/id/dataset/BeePopulation'), rdflib.term.URIRef('http://purl.org/dc/terms/publisher'), rdflib.term.URIRef('https://agencies.gov.gr/id/GreekEnvironmentAgency'))\n",
            "(rdflib.term.URIRef('https://data.gov.gr/id/dataset/BeePopulation'), rdflib.term.URIRef('http://purl.org/dc/terms/description'), rdflib.term.Literal('A dataset about bee population in Greece', lang='en'))\n",
            "(rdflib.term.URIRef('https://data.gov.gr/id/dataset/BeePopulation'), rdflib.term.URIRef('http://purl.org/dc/terms/title'), rdflib.term.Literal('Bee population', lang='en'))\n",
            "(rdflib.term.URIRef('https://data.gov.gr/id/dataset/BeePopulation'), rdflib.term.URIRef('http://www.w3.org/1999/02/22-rdf-syntax-ns#type'), rdflib.term.URIRef('http://www.w3.org/ns/dcat#Dataset'))\n"
          ]
        }
      ]
    },
    {
      "cell_type": "code",
      "source": [
        "for e in stmt:\n",
        "  print(e)"
      ],
      "metadata": {
        "colab": {
          "base_uri": "https://localhost:8080/"
        },
        "id": "r97ysGaGPzTE",
        "outputId": "80aff202-8677-4f13-ee36-950d4b19764c"
      },
      "execution_count": null,
      "outputs": [
        {
          "output_type": "stream",
          "name": "stdout",
          "text": [
            "https://data.gov.gr/id/dataset/BeePopulation\n",
            "http://www.w3.org/1999/02/22-rdf-syntax-ns#type\n",
            "http://www.w3.org/ns/dcat#Dataset\n"
          ]
        }
      ]
    },
    {
      "cell_type": "markdown",
      "source": [
        "### Save RDF as Turtle again"
      ],
      "metadata": {
        "id": "rJdRhZ4nQ3vf"
      }
    },
    {
      "cell_type": "code",
      "source": [
        "mygraph.serialize(destination=\"bees_out.ttl\")"
      ],
      "metadata": {
        "colab": {
          "base_uri": "https://localhost:8080/"
        },
        "id": "YzfXJYmgQQBz",
        "outputId": "2a6a9cb4-6b0c-4529-dd4c-77299cd5d047"
      },
      "execution_count": null,
      "outputs": [
        {
          "output_type": "execute_result",
          "data": {
            "text/plain": [
              "<Graph identifier=N05d94fc3560046efa967250713750289 (<class 'rdflib.graph.Graph'>)>"
            ]
          },
          "metadata": {},
          "execution_count": 21
        }
      ]
    },
    {
      "cell_type": "markdown",
      "source": [
        "### Save RDF as XML"
      ],
      "metadata": {
        "id": "ASsjN4gkRHa6"
      }
    },
    {
      "cell_type": "code",
      "source": [
        "v = mygraph.serialize(format=\"xml\",destination=\"bees_out.xml\")"
      ],
      "metadata": {
        "id": "y9MXEeSoRBZc"
      },
      "execution_count": null,
      "outputs": []
    },
    {
      "cell_type": "code",
      "source": [
        "print(v)"
      ],
      "metadata": {
        "colab": {
          "base_uri": "https://localhost:8080/"
        },
        "id": "KjK3CgMiRiZj",
        "outputId": "e7cf85d9-7abb-49f7-a233-f9ad8246869a"
      },
      "execution_count": null,
      "outputs": [
        {
          "output_type": "stream",
          "name": "stdout",
          "text": [
            "[a rdfg:Graph;rdflib:storage [a rdflib:Store;rdfs:label 'Memory']].\n"
          ]
        }
      ]
    },
    {
      "cell_type": "markdown",
      "source": [
        "### Save RDF as JSON-LD"
      ],
      "metadata": {
        "id": "9dzxp5ATS1sA"
      }
    },
    {
      "cell_type": "code",
      "source": [
        "mygraph.serialize(format=\"json-ld\",destination=\"bees_out.jsonld\")"
      ],
      "metadata": {
        "colab": {
          "base_uri": "https://localhost:8080/"
        },
        "id": "feMvTCMFS0Ek",
        "outputId": "50c95cf4-1772-45d2-d5f1-22b0a2102151"
      },
      "execution_count": null,
      "outputs": [
        {
          "output_type": "execute_result",
          "data": {
            "text/plain": [
              "<Graph identifier=N05d94fc3560046efa967250713750289 (<class 'rdflib.graph.Graph'>)>"
            ]
          },
          "metadata": {},
          "execution_count": 30
        }
      ]
    },
    {
      "cell_type": "code",
      "source": [],
      "metadata": {
        "id": "43vrj3ZyTUzO"
      },
      "execution_count": null,
      "outputs": []
    },
    {
      "cell_type": "markdown",
      "source": [
        "## Creating RDF Triples"
      ],
      "metadata": {
        "id": "sz7wqIHjVZhR"
      }
    },
    {
      "cell_type": "markdown",
      "source": [
        "### Parse from string"
      ],
      "metadata": {
        "id": "ruiHl0FzmGlZ"
      }
    },
    {
      "cell_type": "code",
      "source": [
        "g = Graph().parse(data=\"<a:> <b:> <c:>.\")"
      ],
      "metadata": {
        "id": "biNOlgF_mEKz"
      },
      "execution_count": null,
      "outputs": []
    },
    {
      "cell_type": "code",
      "source": [
        "print(g.serialize())"
      ],
      "metadata": {
        "colab": {
          "base_uri": "https://localhost:8080/"
        },
        "id": "4nuMhhF3mc-q",
        "outputId": "a52ffba3-9060-4c90-81f6-68b4426b7591"
      },
      "execution_count": null,
      "outputs": [
        {
          "output_type": "stream",
          "name": "stdout",
          "text": [
            "\n",
            "<a:> <b:> <c:> .\n",
            "\n",
            "\n"
          ]
        }
      ]
    },
    {
      "cell_type": "code",
      "source": [
        "for r in g.triples((None, None, None)):\n",
        "    print(r)"
      ],
      "metadata": {
        "colab": {
          "base_uri": "https://localhost:8080/"
        },
        "id": "i2aFmez5mhXd",
        "outputId": "7de1932f-4749-4a28-f6b4-0d03cdb983b2"
      },
      "execution_count": null,
      "outputs": [
        {
          "output_type": "stream",
          "name": "stdout",
          "text": [
            "(rdflib.term.URIRef('a:'), rdflib.term.URIRef('b:'), rdflib.term.URIRef('c:'))\n"
          ]
        }
      ]
    },
    {
      "cell_type": "markdown",
      "source": [
        "### Node creation"
      ],
      "metadata": {
        "id": "OfjjHNjEmBDs"
      }
    },
    {
      "cell_type": "code",
      "source": [
        "from rdflib import URIRef, BNode, Literal # 3 classes for representing the 3 possible node types\n",
        "\n",
        "dgo = URIRef('https://www.sciensano.be/en/about-sciensano/sciensanos-organogram/data-governance')\n",
        "john = URIRef(\"http://example.org/people/John\")\n",
        "jane = BNode()\n",
        "\n",
        "name = Literal(\"John\")\n",
        "age = Literal(\"30\")\n",
        "job = Literal(\"scientist\")"
      ],
      "metadata": {
        "id": "vh_2HgyqVbWB"
      },
      "execution_count": null,
      "outputs": []
    },
    {
      "cell_type": "markdown",
      "source": [
        "Same namespace (many URIs with same prefix)"
      ],
      "metadata": {
        "id": "StfeaUacXLBP"
      }
    },
    {
      "cell_type": "code",
      "source": [
        "from rdflib import Namespace\n",
        "\n",
        "n = Namespace(\"http://example.org/people/\")\n",
        "n.john  # == rdflib.term.URIRef(\"http://example.org/people/john\")\n",
        "n.jake  # == rdflib.term.URIRef(\"http://example.org/people/jake\")"
      ],
      "metadata": {
        "colab": {
          "base_uri": "https://localhost:8080/",
          "height": 34
        },
        "id": "c-GRUjjKXKWI",
        "outputId": "3ca9f1b0-53d3-484c-ae65-dd4625f17cb9"
      },
      "execution_count": null,
      "outputs": [
        {
          "output_type": "execute_result",
          "data": {
            "text/plain": [
              "rdflib.term.URIRef('http://example.org/people/jake')"
            ],
            "application/vnd.google.colaboratory.intrinsic+json": {
              "type": "string"
            }
          },
          "metadata": {},
          "execution_count": 39
        }
      ]
    },
    {
      "cell_type": "code",
      "source": [
        "from rdflib.namespace import CSVW, DC, DCAT, DCTERMS, DOAP, FOAF, ODRL2, ORG, OWL, PROF, PROV, RDF, RDFS, SDO, SH, SKOS, SOSA, SSN, TIME, VOID, XMLNS, XSD"
      ],
      "metadata": {
        "id": "EVnVIElzXjA9"
      },
      "execution_count": null,
      "outputs": []
    },
    {
      "cell_type": "code",
      "source": [
        "RDF.type"
      ],
      "metadata": {
        "colab": {
          "base_uri": "https://localhost:8080/",
          "height": 34
        },
        "id": "l8EN7qjKXynR",
        "outputId": "8fac1b60-c5c5-4e14-877c-02389b32741b"
      },
      "execution_count": null,
      "outputs": [
        {
          "output_type": "execute_result",
          "data": {
            "text/plain": [
              "rdflib.term.URIRef('http://www.w3.org/1999/02/22-rdf-syntax-ns#type')"
            ],
            "application/vnd.google.colaboratory.intrinsic+json": {
              "type": "string"
            }
          },
          "metadata": {},
          "execution_count": 46
        }
      ]
    },
    {
      "cell_type": "code",
      "source": [
        "FOAF.knows"
      ],
      "metadata": {
        "colab": {
          "base_uri": "https://localhost:8080/",
          "height": 34
        },
        "id": "1bMc4xBuY8TY",
        "outputId": "6bcb6bc3-4f1a-41d8-b726-4b9f777992b7"
      },
      "execution_count": null,
      "outputs": [
        {
          "output_type": "execute_result",
          "data": {
            "text/plain": [
              "rdflib.term.URIRef('http://xmlns.com/foaf/0.1/knows')"
            ],
            "application/vnd.google.colaboratory.intrinsic+json": {
              "type": "string"
            }
          },
          "metadata": {},
          "execution_count": 47
        }
      ]
    },
    {
      "cell_type": "code",
      "source": [
        "PROF.isProfileOf"
      ],
      "metadata": {
        "colab": {
          "base_uri": "https://localhost:8080/",
          "height": 34
        },
        "id": "Zxnkrl9jZGXZ",
        "outputId": "2782215a-bea3-4f70-a2d0-48793414d6dd"
      },
      "execution_count": null,
      "outputs": [
        {
          "output_type": "execute_result",
          "data": {
            "text/plain": [
              "rdflib.term.URIRef('http://www.w3.org/ns/dx/prof/isProfileOf')"
            ],
            "application/vnd.google.colaboratory.intrinsic+json": {
              "type": "string"
            }
          },
          "metadata": {},
          "execution_count": 48
        }
      ]
    },
    {
      "cell_type": "code",
      "source": [
        "SOSA.Sensor"
      ],
      "metadata": {
        "colab": {
          "base_uri": "https://localhost:8080/",
          "height": 34
        },
        "id": "VQodbwXgZH1t",
        "outputId": "cf976c6d-a51a-4ff0-d87a-1a0a1d6d9083"
      },
      "execution_count": null,
      "outputs": [
        {
          "output_type": "execute_result",
          "data": {
            "text/plain": [
              "rdflib.term.URIRef('http://www.w3.org/ns/sosa/Sensor')"
            ],
            "application/vnd.google.colaboratory.intrinsic+json": {
              "type": "string"
            }
          },
          "metadata": {},
          "execution_count": 49
        }
      ]
    },
    {
      "cell_type": "markdown",
      "source": [
        "### Adding triples"
      ],
      "metadata": {
        "id": "W2B1Rlf4ZWRX"
      }
    },
    {
      "cell_type": "code",
      "source": [
        "newg = Graph() # create graph"
      ],
      "metadata": {
        "id": "q9Ub0zkyZJB2"
      },
      "execution_count": null,
      "outputs": []
    },
    {
      "cell_type": "code",
      "source": [
        "newg.bind(\"foaf\",FOAF) # add namespace"
      ],
      "metadata": {
        "id": "l4Xje_RVZek5"
      },
      "execution_count": null,
      "outputs": []
    },
    {
      "cell_type": "code",
      "source": [
        "newg.serialize(format=\"xml\")"
      ],
      "metadata": {
        "colab": {
          "base_uri": "https://localhost:8080/",
          "height": 35
        },
        "id": "zUrzUi4JZlHA",
        "outputId": "95243ef3-4152-450f-a4a5-180d25072161"
      },
      "execution_count": null,
      "outputs": [
        {
          "output_type": "execute_result",
          "data": {
            "text/plain": [
              "'<?xml version=\"1.0\" encoding=\"utf-8\"?>\\n<rdf:RDF\\n   xmlns:rdf=\"http://www.w3.org/1999/02/22-rdf-syntax-ns#\"\\n>\\n</rdf:RDF>\\n'"
            ],
            "application/vnd.google.colaboratory.intrinsic+json": {
              "type": "string"
            }
          },
          "metadata": {},
          "execution_count": 70
        }
      ]
    },
    {
      "cell_type": "code",
      "source": [
        "# initialise nodes\n",
        "john = URIRef(\"http://example.org/people/John\")\n",
        "jane = BNode()\n",
        "name = Literal(\"John\")\n",
        "age = Literal(24)"
      ],
      "metadata": {
        "id": "x1q4LzrIZn84"
      },
      "execution_count": null,
      "outputs": []
    },
    {
      "cell_type": "code",
      "source": [
        "# add\n",
        "newg.add((john, RDF.type, FOAF.Person))\n",
        "newg.add((john,FOAF.name,name))\n",
        "newg.add((john,FOAF.age,age))\n",
        "newg.add((john,FOAF.knows,jane))\n",
        "newg.add((jane,RDF.type,FOAF.Person))\n",
        "newg.add((jane,FOAF.name,Literal(\"Jane\")))\n"
      ],
      "metadata": {
        "colab": {
          "base_uri": "https://localhost:8080/"
        },
        "id": "8ug94KC5aBhW",
        "outputId": "cb8cb058-7fdf-4b0f-c859-056959badafe"
      },
      "execution_count": null,
      "outputs": [
        {
          "output_type": "execute_result",
          "data": {
            "text/plain": [
              "<Graph identifier=N744f817576dd4f14b64b05301d5ea95f (<class 'rdflib.graph.Graph'>)>"
            ]
          },
          "metadata": {},
          "execution_count": 72
        }
      ]
    },
    {
      "cell_type": "code",
      "source": [
        "print(newg.serialize())"
      ],
      "metadata": {
        "colab": {
          "base_uri": "https://localhost:8080/"
        },
        "id": "pLDerIPYbRhR",
        "outputId": "85a666bc-3f71-45ed-c0a1-bfa96072e59a"
      },
      "execution_count": null,
      "outputs": [
        {
          "output_type": "stream",
          "name": "stdout",
          "text": [
            "@prefix foaf: <http://xmlns.com/foaf/0.1/> .\n",
            "@prefix xsd: <http://www.w3.org/2001/XMLSchema#> .\n",
            "\n",
            "<http://example.org/people/John> a foaf:Person ;\n",
            "    foaf:age 24 ;\n",
            "    foaf:knows [ a foaf:Person ;\n",
            "            foaf:name \"Jane\" ] ;\n",
            "    foaf:name \"John\" .\n",
            "\n",
            "\n"
          ]
        }
      ]
    },
    {
      "cell_type": "markdown",
      "source": [
        "### Enumerating and filtering triples"
      ],
      "metadata": {
        "id": "_ddsckr1cSJV"
      }
    },
    {
      "cell_type": "code",
      "source": [
        "newg.add((URIRef(\"http://example.org/people/Jake\"),RDF.type,FOAF.Person))\n",
        "newg.add((URIRef(\"http://example.org/people/Jake\"),FOAF.age,Literal(20)))"
      ],
      "metadata": {
        "colab": {
          "base_uri": "https://localhost:8080/"
        },
        "id": "mw7mh5EPcL7u",
        "outputId": "3a4baedb-d5d4-403c-a47b-753bc0c102f0"
      },
      "execution_count": null,
      "outputs": [
        {
          "output_type": "execute_result",
          "data": {
            "text/plain": [
              "<Graph identifier=N744f817576dd4f14b64b05301d5ea95f (<class 'rdflib.graph.Graph'>)>"
            ]
          },
          "metadata": {},
          "execution_count": 95
        }
      ]
    },
    {
      "cell_type": "code",
      "source": [
        "print(newg.serialize())"
      ],
      "metadata": {
        "colab": {
          "base_uri": "https://localhost:8080/"
        },
        "id": "ypXubT47cvma",
        "outputId": "98066c5d-2b5b-4e5a-adb0-eacff5d04101"
      },
      "execution_count": null,
      "outputs": [
        {
          "output_type": "stream",
          "name": "stdout",
          "text": [
            "@prefix foaf: <http://xmlns.com/foaf/0.1/> .\n",
            "@prefix xsd: <http://www.w3.org/2001/XMLSchema#> .\n",
            "\n",
            "<http://example.org/people/Jake> a foaf:Person ;\n",
            "    foaf:age 20 .\n",
            "\n",
            "<http://example.org/people/John> a foaf:Person ;\n",
            "    foaf:age 24 ;\n",
            "    foaf:knows [ a foaf:Person ;\n",
            "            foaf:name \"Jane\" ] ;\n",
            "    foaf:name \"John\" .\n",
            "\n",
            "\n"
          ]
        }
      ]
    },
    {
      "cell_type": "code",
      "source": [
        "# enumerate all nodes (subject, predicate, object)\n",
        "for s,p,o in newg:\n",
        "  print(s+\"===\"+p+\"===\"+o)"
      ],
      "metadata": {
        "colab": {
          "base_uri": "https://localhost:8080/"
        },
        "id": "Ij921lgMdXxd",
        "outputId": "3c83da8d-d71f-47d6-d138-6f96e509b2c9"
      },
      "execution_count": null,
      "outputs": [
        {
          "output_type": "stream",
          "name": "stdout",
          "text": [
            "http://example.org/people/Jake===http://xmlns.com/foaf/0.1/age===20\n",
            "http://example.org/people/Jake===http://www.w3.org/1999/02/22-rdf-syntax-ns#type===http://xmlns.com/foaf/0.1/Person\n",
            "Ne39244ac227a43c78480793db351add8===http://www.w3.org/1999/02/22-rdf-syntax-ns#type===http://xmlns.com/foaf/0.1/Person\n",
            "http://example.org/people/John===http://www.w3.org/1999/02/22-rdf-syntax-ns#type===http://xmlns.com/foaf/0.1/Person\n",
            "http://example.org/people/John===http://xmlns.com/foaf/0.1/knows===Ne39244ac227a43c78480793db351add8\n",
            "http://example.org/people/John===http://xmlns.com/foaf/0.1/name===John\n",
            "http://example.org/people/John===http://xmlns.com/foaf/0.1/age===24\n",
            "Ne39244ac227a43c78480793db351add8===http://xmlns.com/foaf/0.1/name===Jane\n"
          ]
        }
      ]
    },
    {
      "cell_type": "code",
      "source": [
        "# enumerate nodes respecting a given filter (e.g. attribute is age)\n",
        "for s,p,o in newg.triples((None,FOAF['age'],None)):\n",
        "  print(s+\"===\"+p+\"===\"+o)"
      ],
      "metadata": {
        "colab": {
          "base_uri": "https://localhost:8080/"
        },
        "id": "CJK1WncYd0p_",
        "outputId": "54e7dab5-ba7f-414e-b73d-3789a5bb003d"
      },
      "execution_count": null,
      "outputs": [
        {
          "output_type": "stream",
          "name": "stdout",
          "text": [
            "http://example.org/people/John===http://xmlns.com/foaf/0.1/age===24\n",
            "http://example.org/people/Jake===http://xmlns.com/foaf/0.1/age===20\n"
          ]
        }
      ]
    },
    {
      "cell_type": "code",
      "source": [
        "# enumerate nodes respecting a given filter (e.g. subject is John)\n",
        "for s,p,o in newg.triples((n.John,None,None)):\n",
        "  print(s+\"===\"+p+\"===\"+o)"
      ],
      "metadata": {
        "colab": {
          "base_uri": "https://localhost:8080/"
        },
        "id": "Eg_4QNNpeSdT",
        "outputId": "0ec87a8b-36d0-4e1f-dbc5-b647c4b77b33"
      },
      "execution_count": null,
      "outputs": [
        {
          "output_type": "stream",
          "name": "stdout",
          "text": [
            "http://example.org/people/John===http://www.w3.org/1999/02/22-rdf-syntax-ns#type===http://xmlns.com/foaf/0.1/Person\n",
            "http://example.org/people/John===http://xmlns.com/foaf/0.1/name===John\n",
            "http://example.org/people/John===http://xmlns.com/foaf/0.1/age===24\n",
            "http://example.org/people/John===http://xmlns.com/foaf/0.1/knows===Ne39244ac227a43c78480793db351add8\n"
          ]
        }
      ]
    },
    {
      "cell_type": "markdown",
      "source": [
        "### Removing triples"
      ],
      "metadata": {
        "id": "rgfcMA7hfnSX"
      }
    },
    {
      "cell_type": "code",
      "source": [
        "newg.remove((URIRef(\"http://example.org/people/Jake\"),None,None))"
      ],
      "metadata": {
        "colab": {
          "base_uri": "https://localhost:8080/"
        },
        "id": "uRX0INtbc3FQ",
        "outputId": "4be6c14a-74eb-48e5-9519-20c99b91061e"
      },
      "execution_count": null,
      "outputs": [
        {
          "output_type": "execute_result",
          "data": {
            "text/plain": [
              "<Graph identifier=N744f817576dd4f14b64b05301d5ea95f (<class 'rdflib.graph.Graph'>)>"
            ]
          },
          "metadata": {},
          "execution_count": 102
        }
      ]
    },
    {
      "cell_type": "code",
      "source": [
        "print(newg.serialize())"
      ],
      "metadata": {
        "colab": {
          "base_uri": "https://localhost:8080/"
        },
        "id": "AhUygSnYdTee",
        "outputId": "1563534f-e8db-4ecf-99c6-92c3a5fb8471"
      },
      "execution_count": null,
      "outputs": [
        {
          "output_type": "stream",
          "name": "stdout",
          "text": [
            "@prefix foaf: <http://xmlns.com/foaf/0.1/> .\n",
            "@prefix xsd: <http://www.w3.org/2001/XMLSchema#> .\n",
            "\n",
            "<http://example.org/people/John> a foaf:Person ;\n",
            "    foaf:age 24 ;\n",
            "    foaf:knows [ a foaf:Person ;\n",
            "            foaf:name \"Jane\" ] ;\n",
            "    foaf:name \"John\" .\n",
            "\n",
            "\n"
          ]
        }
      ]
    },
    {
      "cell_type": "markdown",
      "source": [
        "## Navigating graphs"
      ],
      "metadata": {
        "id": "NvUeQSB9fztR"
      }
    },
    {
      "cell_type": "markdown",
      "source": [
        "### Contains check"
      ],
      "metadata": {
        "id": "PXDl_fRKgkLx"
      }
    },
    {
      "cell_type": "code",
      "source": [
        "bob = URIRef(\"http://example.org/people/bob\")\n",
        "graph = Graph()\n",
        "graph.add((bob,BNode(),BNode()))"
      ],
      "metadata": {
        "colab": {
          "base_uri": "https://localhost:8080/"
        },
        "id": "0ujmBgGkfpcd",
        "outputId": "11154f74-3649-42fc-83ae-017bba22de84"
      },
      "execution_count": null,
      "outputs": [
        {
          "output_type": "execute_result",
          "data": {
            "text/plain": [
              "<Graph identifier=Nb8c15cba8f4d43ad97f16497f493e890 (<class 'rdflib.graph.Graph'>)>"
            ]
          },
          "metadata": {},
          "execution_count": 108
        }
      ]
    },
    {
      "cell_type": "code",
      "source": [
        "if (bob, RDF.type, FOAF.Person) in graph:\n",
        "    print(\"This graph knows that Bob is a person!\")\n",
        "else:\n",
        "  print(\"Don't know if Bob is a person\")"
      ],
      "metadata": {
        "colab": {
          "base_uri": "https://localhost:8080/"
        },
        "id": "48UP4g4QgyNF",
        "outputId": "983f6c12-7956-4c31-bb8d-deabdb7884f0"
      },
      "execution_count": null,
      "outputs": [
        {
          "output_type": "stream",
          "name": "stdout",
          "text": [
            "Don't know if Bob is a person\n"
          ]
        }
      ]
    },
    {
      "cell_type": "code",
      "source": [
        "if (bob, None, None) in graph:\n",
        "    print(\"This graph contains triples about Bob!\")"
      ],
      "metadata": {
        "colab": {
          "base_uri": "https://localhost:8080/"
        },
        "id": "se7vK-SFg0UK",
        "outputId": "46b9e414-c3ad-477a-8a62-c49f0d11c219"
      },
      "execution_count": null,
      "outputs": [
        {
          "output_type": "stream",
          "name": "stdout",
          "text": [
            "This graph contains triples about Bob!\n"
          ]
        }
      ]
    },
    {
      "cell_type": "code",
      "source": [],
      "metadata": {
        "id": "sjV6it2dhUc0"
      },
      "execution_count": null,
      "outputs": []
    },
    {
      "cell_type": "markdown",
      "source": [
        "### Sets"
      ],
      "metadata": {
        "id": "WRi7ojtzhVg9"
      }
    },
    {
      "cell_type": "markdown",
      "source": [
        "Can use + for union, - for difference, & for intersection, ^ for exclusive or"
      ],
      "metadata": {
        "id": "piQMTQLghX1L"
      }
    },
    {
      "cell_type": "markdown",
      "source": [
        "### Basic triple matching"
      ],
      "metadata": {
        "id": "9dEKE5i9hySH"
      }
    },
    {
      "cell_type": "code",
      "source": [
        "newg.add((URIRef(\"http://example.org/people/Jake\"),RDF.type,FOAF.Person))\n",
        "newg.add((URIRef(\"http://example.org/people/Jake\"),FOAF.age,Literal(20)))"
      ],
      "metadata": {
        "colab": {
          "base_uri": "https://localhost:8080/"
        },
        "id": "cl7PuEW4hWhn",
        "outputId": "bbdef8c9-c7da-4ce3-fa09-38267c4d432d"
      },
      "execution_count": null,
      "outputs": [
        {
          "output_type": "execute_result",
          "data": {
            "text/plain": [
              "<Graph identifier=N744f817576dd4f14b64b05301d5ea95f (<class 'rdflib.graph.Graph'>)>"
            ]
          },
          "metadata": {},
          "execution_count": 112
        }
      ]
    },
    {
      "cell_type": "code",
      "source": [
        "print(newg.serialize())"
      ],
      "metadata": {
        "colab": {
          "base_uri": "https://localhost:8080/"
        },
        "id": "saYARRpdh4zC",
        "outputId": "11ff1998-eb30-483d-9d51-efd397525222"
      },
      "execution_count": null,
      "outputs": [
        {
          "output_type": "stream",
          "name": "stdout",
          "text": [
            "@prefix foaf: <http://xmlns.com/foaf/0.1/> .\n",
            "@prefix xsd: <http://www.w3.org/2001/XMLSchema#> .\n",
            "\n",
            "<http://example.org/people/Jake> a foaf:Person ;\n",
            "    foaf:age 20 .\n",
            "\n",
            "<http://example.org/people/John> a foaf:Person ;\n",
            "    foaf:age 24 ;\n",
            "    foaf:knows [ a foaf:Person ;\n",
            "            foaf:name \"Jane\" ] ;\n",
            "    foaf:name \"John\" .\n",
            "\n",
            "\n"
          ]
        }
      ]
    },
    {
      "cell_type": "code",
      "source": [
        "# find all subjects (s) of type (rdf:type) person (foaf:Person)\n",
        "for s, p, o in newg.triples((None,RDF.type,FOAF.Person)):\n",
        "  print(f\"{s} is a person.\")"
      ],
      "metadata": {
        "colab": {
          "base_uri": "https://localhost:8080/"
        },
        "id": "n5qqEdBph615",
        "outputId": "530143ee-b3de-4c2a-92a7-c0ab5fae7b9c"
      },
      "execution_count": null,
      "outputs": [
        {
          "output_type": "stream",
          "name": "stdout",
          "text": [
            "http://example.org/people/John is a person.\n",
            "Ne39244ac227a43c78480793db351add8 is a person.\n",
            "http://example.org/people/Jake is a person.\n"
          ]
        }
      ]
    },
    {
      "cell_type": "code",
      "source": [
        "# find all subjects (s) of type (rdf:type)\n",
        "for s, p, o in newg.triples((None,RDF.type,None)):\n",
        "  print(f\"{s} is a {o}.\")"
      ],
      "metadata": {
        "colab": {
          "base_uri": "https://localhost:8080/"
        },
        "id": "1PfmWKJhiGQu",
        "outputId": "2d15e5c4-18c9-4bb8-b8bb-58240b16c0c7"
      },
      "execution_count": null,
      "outputs": [
        {
          "output_type": "stream",
          "name": "stdout",
          "text": [
            "http://example.org/people/John is a http://xmlns.com/foaf/0.1/Person.\n",
            "Ne39244ac227a43c78480793db351add8 is a http://xmlns.com/foaf/0.1/Person.\n",
            "http://example.org/people/Jake is a http://xmlns.com/foaf/0.1/Person.\n"
          ]
        }
      ]
    },
    {
      "cell_type": "code",
      "source": [
        "# create a graph based on a subset / filter\n",
        "johngraph = Graph()\n",
        "johngraph += newg.triples((john, None, None))"
      ],
      "metadata": {
        "id": "JsSeJ_LniV4U"
      },
      "execution_count": null,
      "outputs": []
    },
    {
      "cell_type": "code",
      "source": [
        "print(johngraph.serialize())"
      ],
      "metadata": {
        "colab": {
          "base_uri": "https://localhost:8080/"
        },
        "id": "HvGr4y__imeq",
        "outputId": "10ef312c-87b0-4d9a-f4c6-1980a2e367db"
      },
      "execution_count": null,
      "outputs": [
        {
          "output_type": "stream",
          "name": "stdout",
          "text": [
            "@prefix foaf: <http://xmlns.com/foaf/0.1/> .\n",
            "@prefix xsd: <http://www.w3.org/2001/XMLSchema#> .\n",
            "\n",
            "<http://example.org/people/John> a foaf:Person ;\n",
            "    foaf:age 24 ;\n",
            "    foaf:knows [ ] ;\n",
            "    foaf:name \"John\" .\n",
            "\n",
            "\n"
          ]
        }
      ]
    },
    {
      "cell_type": "code",
      "source": [
        "# cases where only a single value makes sense (get single node, not generator)\n",
        "name = newg.value(john,FOAF.name)\n",
        "print(name)"
      ],
      "metadata": {
        "colab": {
          "base_uri": "https://localhost:8080/"
        },
        "id": "dfuXy_TSiowx",
        "outputId": "c6121855-934e-444a-b0fa-0ab8957f75b8"
      },
      "execution_count": null,
      "outputs": [
        {
          "output_type": "stream",
          "name": "stdout",
          "text": [
            "John\n"
          ]
        }
      ]
    },
    {
      "cell_type": "code",
      "source": [
        "person = newg.value(predicate=FOAF.knows,object=john,any=False)"
      ],
      "metadata": {
        "id": "OXyCDbASjFCQ"
      },
      "execution_count": null,
      "outputs": []
    },
    {
      "cell_type": "code",
      "source": [
        "for person in newg.subjects(RDF.type, FOAF.Person):\n",
        "    print(\"{} is a person\".format(person))"
      ],
      "metadata": {
        "colab": {
          "base_uri": "https://localhost:8080/"
        },
        "id": "l8DZxgkljVUM",
        "outputId": "57dedf8e-b563-41e5-8694-39c299ec70cd"
      },
      "execution_count": null,
      "outputs": [
        {
          "output_type": "stream",
          "name": "stdout",
          "text": [
            "http://example.org/people/John is a person\n",
            "Ne39244ac227a43c78480793db351add8 is a person\n",
            "http://example.org/people/Jake is a person\n"
          ]
        }
      ]
    },
    {
      "cell_type": "code",
      "source": [
        "for p in newg.predicates(john, FOAF.Person):\n",
        "    print(\"{} is the predicate\".format(p))"
      ],
      "metadata": {
        "colab": {
          "base_uri": "https://localhost:8080/"
        },
        "id": "tthXGzP3jQYf",
        "outputId": "5822ea68-d950-498f-cbec-2e39342d7323"
      },
      "execution_count": null,
      "outputs": [
        {
          "output_type": "stream",
          "name": "stdout",
          "text": [
            "http://www.w3.org/1999/02/22-rdf-syntax-ns#type is the predicate\n"
          ]
        }
      ]
    },
    {
      "cell_type": "code",
      "source": [
        "for o in newg.objects(john, None):\n",
        "    print(\"{} is the object\".format(o))"
      ],
      "metadata": {
        "colab": {
          "base_uri": "https://localhost:8080/"
        },
        "id": "jaqB41yIjvd7",
        "outputId": "b31cc6b4-8b5d-4450-ac29-47099424c489"
      },
      "execution_count": null,
      "outputs": [
        {
          "output_type": "stream",
          "name": "stdout",
          "text": [
            "http://xmlns.com/foaf/0.1/Person is the object\n",
            "John is the object\n",
            "24 is the object\n",
            "Ne39244ac227a43c78480793db351add8 is the object\n"
          ]
        }
      ]
    },
    {
      "cell_type": "markdown",
      "source": [
        "## Querying with SPARQL"
      ],
      "metadata": {
        "id": "s_i-W_iNrD-w"
      }
    },
    {
      "cell_type": "code",
      "source": [
        "g = mygraph"
      ],
      "metadata": {
        "id": "H5Lsgnw_q4p-"
      },
      "execution_count": null,
      "outputs": []
    },
    {
      "cell_type": "code",
      "source": [
        "n.Jake"
      ],
      "metadata": {
        "colab": {
          "base_uri": "https://localhost:8080/",
          "height": 34
        },
        "id": "Z2M9AyEPtCfo",
        "outputId": "43bc2c75-37a3-4a2f-aea7-b6539d1e685a"
      },
      "execution_count": null,
      "outputs": [
        {
          "output_type": "execute_result",
          "data": {
            "text/plain": [
              "rdflib.term.URIRef('http://example.org/people/Jake')"
            ],
            "application/vnd.google.colaboratory.intrinsic+json": {
              "type": "string"
            }
          },
          "metadata": {},
          "execution_count": 153
        }
      ]
    },
    {
      "cell_type": "code",
      "source": [
        "newg.add((n.Jake,FOAF.knows,n.John))\n",
        "newg.add((n.Jake,FOAF.name,Literal(\"Jake\")))"
      ],
      "metadata": {
        "colab": {
          "base_uri": "https://localhost:8080/"
        },
        "id": "ze9MA5FYs5fD",
        "outputId": "75f31457-b1f6-4eb7-f52f-6888a1b13847"
      },
      "execution_count": null,
      "outputs": [
        {
          "output_type": "execute_result",
          "data": {
            "text/plain": [
              "<Graph identifier=N744f817576dd4f14b64b05301d5ea95f (<class 'rdflib.graph.Graph'>)>"
            ]
          },
          "metadata": {},
          "execution_count": 165
        }
      ]
    },
    {
      "cell_type": "code",
      "source": [
        "print(newg.serialize())"
      ],
      "metadata": {
        "colab": {
          "base_uri": "https://localhost:8080/"
        },
        "id": "Vxr0sG7akA1N",
        "outputId": "d746c1cc-5cd4-4756-a5f3-06d3f5c89a08"
      },
      "execution_count": null,
      "outputs": [
        {
          "output_type": "stream",
          "name": "stdout",
          "text": [
            "@prefix foaf: <http://xmlns.com/foaf/0.1/> .\n",
            "@prefix xsd: <http://www.w3.org/2001/XMLSchema#> .\n",
            "\n",
            "<http://example.org/people/Jake> a foaf:Person ;\n",
            "    foaf:age 20 ;\n",
            "    foaf:knows <http://example.org/people/John> ;\n",
            "    foaf:name \"Jake\" .\n",
            "\n",
            "<http://example.org/people/John> a foaf:Person ;\n",
            "    foaf:age 24 ;\n",
            "    foaf:knows [ a foaf:Person ;\n",
            "            foaf:name \"Jane\" ] ;\n",
            "    foaf:name \"John\" .\n",
            "\n",
            "\n"
          ]
        }
      ]
    },
    {
      "cell_type": "markdown",
      "source": [
        "### Read queries"
      ],
      "metadata": {
        "id": "rjGuJAdWttSE"
      }
    },
    {
      "cell_type": "code",
      "source": [
        "knows_query = \"\"\"\n",
        "SELECT DISTINCT ?aname ?bname\n",
        "WHERE {\n",
        "  ?a foaf:knows ?b .\n",
        "  ?a foaf:name ?aname .\n",
        "  ?b foaf:name ?bname .\n",
        "}\"\"\""
      ],
      "metadata": {
        "id": "NuQBO3FbsR0U"
      },
      "execution_count": null,
      "outputs": []
    },
    {
      "cell_type": "code",
      "source": [
        "qres = newg.query(knows_query)"
      ],
      "metadata": {
        "id": "2o9jeTbnso-P"
      },
      "execution_count": null,
      "outputs": []
    },
    {
      "cell_type": "code",
      "source": [
        "for row in qres:\n",
        "  print(f\"{row.aname} knows {row.bname}\")"
      ],
      "metadata": {
        "colab": {
          "base_uri": "https://localhost:8080/"
        },
        "id": "d2kgcfMvstFU",
        "outputId": "a71d477c-c008-40f2-9fe5-0e862c109b9c"
      },
      "execution_count": null,
      "outputs": [
        {
          "output_type": "stream",
          "name": "stdout",
          "text": [
            "John knows Jane\n",
            "Jake knows John\n"
          ]
        }
      ]
    },
    {
      "cell_type": "markdown",
      "source": [
        "### Update queries"
      ],
      "metadata": {
        "id": "CA9QsD2-tu5d"
      }
    },
    {
      "cell_type": "code",
      "source": [
        "# Create a Graph, add in some test data\n",
        "g = Graph()\n",
        "g.parse(\n",
        "    data=\"\"\"\n",
        "        <x:> a <c:> .\n",
        "        <y:> a <c:> .\n",
        "    \"\"\",\n",
        "    format=\"turtle\"\n",
        ")\n",
        "print(g.serialize())"
      ],
      "metadata": {
        "colab": {
          "base_uri": "https://localhost:8080/"
        },
        "id": "7ZxeczDasyXJ",
        "outputId": "1c079c88-155c-4333-f39e-ba9d79cde55f"
      },
      "execution_count": null,
      "outputs": [
        {
          "output_type": "stream",
          "name": "stdout",
          "text": [
            "\n",
            "<x:> a <c:> .\n",
            "\n",
            "<y:> a <c:> .\n",
            "\n",
            "\n"
          ]
        }
      ]
    },
    {
      "cell_type": "code",
      "source": [
        "# Select all the things (s) that are of type (rdf:type) c:\n",
        "qres = g.query(\"\"\"SELECT ?s WHERE { ?s a <c:> }\"\"\")"
      ],
      "metadata": {
        "id": "AUv8-RmSt3cd"
      },
      "execution_count": null,
      "outputs": []
    },
    {
      "cell_type": "code",
      "source": [
        "for row in qres:\n",
        "    print(f\"{row.s}\")"
      ],
      "metadata": {
        "colab": {
          "base_uri": "https://localhost:8080/"
        },
        "id": "cmdetaXBuEfM",
        "outputId": "41840425-8f16-40f5-a09d-8e3a57eaf72b"
      },
      "execution_count": null,
      "outputs": [
        {
          "output_type": "stream",
          "name": "stdout",
          "text": [
            "x:\n",
            "y:\n"
          ]
        }
      ]
    },
    {
      "cell_type": "code",
      "source": [
        "# Add in a new triple using SPARQL UPDATE\n",
        "g.update(\"\"\"INSERT DATA { <z:> a <c:> }\"\"\")"
      ],
      "metadata": {
        "id": "CKEnAQYBuGTQ"
      },
      "execution_count": null,
      "outputs": []
    },
    {
      "cell_type": "code",
      "source": [
        "# Select all the things (s) that are of type (rdf:type) c:\n",
        "qres = g.query(\"\"\"SELECT ?s WHERE { ?s a <c:> }\"\"\")\n",
        "print(\"After update:\")\n",
        "for row in qres:\n",
        "    print(f\"{row.s}\")"
      ],
      "metadata": {
        "colab": {
          "base_uri": "https://localhost:8080/"
        },
        "id": "VaDQw67FuKh0",
        "outputId": "a9888c93-c8c8-4594-b3bb-12fc69cc7d9a"
      },
      "execution_count": null,
      "outputs": [
        {
          "output_type": "stream",
          "name": "stdout",
          "text": [
            "After update:\n",
            "x:\n",
            "y:\n",
            "z:\n"
          ]
        }
      ]
    },
    {
      "cell_type": "code",
      "source": [
        "# Change type of <y:> from <c:> to <d:>\n",
        "g.update(\"\"\"\n",
        "         DELETE { <y:> a <c:> }\n",
        "         INSERT { <y:> a <d:> }\n",
        "         WHERE { <y:> a <c:> }\n",
        "         \"\"\")\n",
        "print(\"After second update:\")\n",
        "qres = g.query(\"\"\"SELECT ?s ?o WHERE { ?s a ?o }\"\"\")\n",
        "for row in qres:\n",
        "    print(f\"{row.s} a {row.o}\")\n",
        "# prints:\n",
        "# x: a c:\n",
        "# z: a c:\n",
        "# y: a d:"
      ],
      "metadata": {
        "colab": {
          "base_uri": "https://localhost:8080/"
        },
        "id": "quMTaUbAuPXy",
        "outputId": "8a1770d5-4d46-4b50-e810-4eaf41dd7e96"
      },
      "execution_count": null,
      "outputs": [
        {
          "output_type": "stream",
          "name": "stdout",
          "text": [
            "After second update:\n",
            "x: a c:\n",
            "z: a c:\n",
            "y: a d:\n"
          ]
        }
      ]
    },
    {
      "cell_type": "markdown",
      "source": [
        "### Querying a remote service"
      ],
      "metadata": {
        "id": "w7OZYQAivJ_V"
      }
    },
    {
      "cell_type": "code",
      "source": [
        "g = Graph()\n",
        "qres = g.query(\n",
        "    \"\"\"\n",
        "    SELECT ?s\n",
        "    WHERE {\n",
        "      SERVICE <https://dbpedia.org/sparql> {\n",
        "        ?s a ?o .\n",
        "      }\n",
        "    }\n",
        "    LIMIT 3\n",
        "    \"\"\"\n",
        ")\n",
        "\n",
        "for row in qres:\n",
        "    print(row.s)"
      ],
      "metadata": {
        "colab": {
          "base_uri": "https://localhost:8080/"
        },
        "id": "HAiLrdBjulEC",
        "outputId": "3280c7f9-e33d-4546-ce7c-5d2ac26d7243"
      },
      "execution_count": null,
      "outputs": [
        {
          "output_type": "stream",
          "name": "stdout",
          "text": [
            "http://www.openlinksw.com/schemas/virtrdf#DefaultQuadMap\n",
            "http://www.openlinksw.com/schemas/virtrdf#TmpQuadMap\n",
            "http://www.openlinksw.com/schemas/virtrdf#DefaultServiceMap\n"
          ]
        }
      ]
    },
    {
      "cell_type": "code",
      "source": [],
      "metadata": {
        "id": "zPHtPoHOvvTf"
      },
      "execution_count": null,
      "outputs": []
    }
  ]
}