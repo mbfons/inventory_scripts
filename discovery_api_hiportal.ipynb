{
  "nbformat": 4,
  "nbformat_minor": 0,
  "metadata": {
    "colab": {
      "provenance": [],
      "toc_visible": true,
      "authorship_tag": "ABX9TyOx/3mzNZEsrG3a+BkKB5d3",
      "include_colab_link": true
    },
    "kernelspec": {
      "name": "python3",
      "display_name": "Python 3"
    },
    "language_info": {
      "name": "python"
    }
  },
  "cells": [
    {
      "cell_type": "markdown",
      "metadata": {
        "id": "view-in-github",
        "colab_type": "text"
      },
      "source": [
        "<a href=\"https://colab.research.google.com/github/mbfons/inventory_scripts/blob/master/discovery_api_hiportal.ipynb\" target=\"_parent\"><img src=\"https://colab.research.google.com/assets/colab-badge.svg\" alt=\"Open In Colab\"/></a>"
      ]
    },
    {
      "cell_type": "markdown",
      "source": [
        "# Health Information portal"
      ],
      "metadata": {
        "id": "lzyz-5izgW7H"
      }
    },
    {
      "cell_type": "markdown",
      "source": [
        "## Libraries"
      ],
      "metadata": {
        "id": "V40S_7d_eXJL"
      }
    },
    {
      "cell_type": "code",
      "execution_count": null,
      "metadata": {
        "colab": {
          "base_uri": "https://localhost:8080/"
        },
        "id": "tN2wx5W1NzkE",
        "outputId": "ed070dfc-efae-4225-9527-8325a14b145a"
      },
      "outputs": [
        {
          "output_type": "stream",
          "name": "stdout",
          "text": [
            "Collecting rdflib\n",
            "  Downloading rdflib-7.0.0-py3-none-any.whl (531 kB)\n",
            "\u001b[2K     \u001b[90m━━━━━━━━━━━━━━━━━━━━━━━━━━━━━━━━━━━━━━━━\u001b[0m \u001b[32m531.9/531.9 kB\u001b[0m \u001b[31m5.9 MB/s\u001b[0m eta \u001b[36m0:00:00\u001b[0m\n",
            "\u001b[?25hCollecting isodate<0.7.0,>=0.6.0 (from rdflib)\n",
            "  Downloading isodate-0.6.1-py2.py3-none-any.whl (41 kB)\n",
            "\u001b[2K     \u001b[90m━━━━━━━━━━━━━━━━━━━━━━━━━━━━━━━━━━━━━━━━\u001b[0m \u001b[32m41.7/41.7 kB\u001b[0m \u001b[31m3.6 MB/s\u001b[0m eta \u001b[36m0:00:00\u001b[0m\n",
            "\u001b[?25hRequirement already satisfied: pyparsing<4,>=2.1.0 in /usr/local/lib/python3.10/dist-packages (from rdflib) (3.1.2)\n",
            "Requirement already satisfied: six in /usr/local/lib/python3.10/dist-packages (from isodate<0.7.0,>=0.6.0->rdflib) (1.16.0)\n",
            "Installing collected packages: isodate, rdflib\n",
            "Successfully installed isodate-0.6.1 rdflib-7.0.0\n"
          ]
        }
      ],
      "source": [
        "#!pip install requests\n",
        "!pip install rdflib"
      ]
    },
    {
      "cell_type": "code",
      "source": [
        "from rdflib import Graph, URIRef, BNode, Literal, Namespace"
      ],
      "metadata": {
        "id": "WoAGQOtCYSpw"
      },
      "execution_count": null,
      "outputs": []
    },
    {
      "cell_type": "code",
      "source": [
        "# https://www.healthinformationportal.eu/about/health-information-portal-api"
      ],
      "metadata": {
        "id": "J8y6EGGdOVbo"
      },
      "execution_count": null,
      "outputs": []
    },
    {
      "cell_type": "code",
      "source": [
        "# refers to: https://www.healthinformationportal.eu/health-information-sources/austria-wide-representative-survey-substance-use-general-population\n",
        "# refers to: https://fair.healthinformationportal.eu/dataset/a8832b77-2075-400a-93b2-35d974261f80/\n",
        "\n",
        "import requests\n",
        "uri = 'https://fair.healthinformationportal.eu/dataset/a8832b77-2075-400a-93b2-35d974261f80/'\n",
        "headers = {'Accept': 'text/turtle'}\n",
        "res = requests.get(url=uri, headers=headers)\n",
        "#print(res.text)"
      ],
      "metadata": {
        "id": "lMxfXP1HOJRH"
      },
      "execution_count": null,
      "outputs": []
    },
    {
      "cell_type": "markdown",
      "source": [
        "## Get data catalog\n",
        "\n",
        "e.g. found uuid for Belgian Node here https://fair.healthinformationportal.eu/"
      ],
      "metadata": {
        "id": "mnqOGblDTTEW"
      }
    },
    {
      "cell_type": "code",
      "source": [
        "uribe = 'https://fair.healthinformationportal.eu/catalog/743a4ddb-b3b3-4c78-8bad-ab8d7d9b0f51/'"
      ],
      "metadata": {
        "id": "uqwyyz79OZ29"
      },
      "execution_count": null,
      "outputs": []
    },
    {
      "cell_type": "code",
      "source": [
        "mysyntax = 'text/turtle'\n",
        "mysyntax = 'application/ld+json'\n",
        "mysyntax = 'application/rdf+xml'\n",
        "mysyntax = 'text/n3'\n",
        "headers = {'Accept': mysyntax}"
      ],
      "metadata": {
        "id": "eBgiVKKcUV61"
      },
      "execution_count": null,
      "outputs": []
    },
    {
      "cell_type": "code",
      "source": [
        "resbe = requests.get(url=uribe, headers=headers)\n",
        "print(resbe.text)"
      ],
      "metadata": {
        "id": "_J6pyPG3Phvb"
      },
      "execution_count": null,
      "outputs": []
    },
    {
      "cell_type": "markdown",
      "source": [
        "## Get Data Catalog and its children\n",
        "\n",
        "https://fair.healthinformationportal.eu/swagger-ui/index.html#/Metadata%3A%20Catalog/getCatalogExpanded"
      ],
      "metadata": {
        "id": "Jdzu1GFwVswi"
      }
    },
    {
      "cell_type": "code",
      "source": [
        "uribeexp = uribe + 'expanded'"
      ],
      "metadata": {
        "id": "-2BP901UTynj"
      },
      "execution_count": null,
      "outputs": []
    },
    {
      "cell_type": "code",
      "source": [
        "uribeexp"
      ],
      "metadata": {
        "colab": {
          "base_uri": "https://localhost:8080/",
          "height": 36
        },
        "id": "RaG1Cu3qWZ1T",
        "outputId": "5ca262d9-b816-4658-8935-9ca560cb2799"
      },
      "execution_count": null,
      "outputs": [
        {
          "output_type": "execute_result",
          "data": {
            "text/plain": [
              "'https://fair.healthinformationportal.eu/catalog/743a4ddb-b3b3-4c78-8bad-ab8d7d9b0f51/expanded'"
            ],
            "application/vnd.google.colaboratory.intrinsic+json": {
              "type": "string"
            }
          },
          "metadata": {},
          "execution_count": 40
        }
      ]
    },
    {
      "cell_type": "code",
      "source": [
        "mysyntax = 'text/turtle'\n",
        "#mysyntax = 'application/ld+json'\n",
        "#mysyntax = 'application/rdf+xml'\n",
        "#mysyntax = 'text/n3'\n",
        "headers = {'Accept': mysyntax}"
      ],
      "metadata": {
        "id": "D4GV00nMWEWc"
      },
      "execution_count": null,
      "outputs": []
    },
    {
      "cell_type": "code",
      "source": [
        "resbe = requests.get(url=uribeexp, headers=headers)\n",
        "print(resbe.text)"
      ],
      "metadata": {
        "colab": {
          "base_uri": "https://localhost:8080/"
        },
        "id": "cO3Kt5MmWK6k",
        "outputId": "50dada35-7031-4839-dd9a-ce2b3fe9d3c0"
      },
      "execution_count": null,
      "outputs": [
        {
          "output_type": "stream",
          "name": "stdout",
          "text": [
            "@prefix dcterms: <http://purl.org/dc/terms/> .\n",
            "@prefix dcat: <http://www.w3.org/ns/dcat#> .\n",
            "@prefix foaf: <http://xmlns.com/foaf/0.1/> .\n",
            "@prefix xsd: <http://www.w3.org/2001/XMLSchema#> .\n",
            "@prefix ldp: <http://www.w3.org/ns/ldp#> .\n",
            "\n",
            "<https://fair.healthinformationportal.eu/catalog/743a4ddb-b3b3-4c78-8bad-ab8d7d9b0f51>\n",
            "  a dcat:Resource, dcat:Catalog;\n",
            "  dcterms:accessRights <https://fair.healthinformationportal.eu/catalog/743a4ddb-b3b3-4c78-8bad-ab8d7d9b0f51#accessRights>;\n",
            "  dcterms:language <http://id.loc.gov/vocabulary/iso639-1/en>;\n",
            "  dcterms:license <http://rdflicense.appspot.com/rdflicense/cc-by-nc-nd3.0>;\n",
            "  <https://w3id.org/fdp/fdp-o#metadataIdentifier> <https://fair.healthinformationportal.eu/catalog/743a4ddb-b3b3-4c78-8bad-ab8d7d9b0f51#identifier>;\n",
            "  <https://w3id.org/fdp/fdp-o#metadataIssued> \"2023-10-06T10:13:00.824Z\"^^xsd:dateTime;\n",
            "  <https://w3id.org/fdp/fdp-o#metadataModified> \"2024-01-11T19:03:12.533Z\"^^xsd:dateTime;\n",
            "  <http://semanticscience.org/resource/SIO_000628> <https://fair.healthinformationportal.eu/catalog/743a4ddb-b3b3-4c78-8bad-ab8d7d9b0f51/metrics/445c0a70d1e214e545b261559e2842f4>,\n",
            "    <https://fair.healthinformationportal.eu/catalog/743a4ddb-b3b3-4c78-8bad-ab8d7d9b0f51/metrics/5d27e854a9e78eb3f663331cd47cdc13>;\n",
            "  dcterms:isPartOf <https://fair.healthinformationportal.eu>;\n",
            "  dcat:dataset <https://fair.healthinformationportal.eu/dataset/21cad28d-da68-48c5-915e-e7caecb0d22d>,\n",
            "    <https://fair.healthinformationportal.eu/dataset/1d07bc2b-2786-40cd-b97e-ec5e41d0cd27>,\n",
            "    <https://fair.healthinformationportal.eu/dataset/2703449c-3219-4e66-87f3-e7dac7dc878e>,\n",
            "    <https://fair.healthinformationportal.eu/dataset/087b6cf9-a934-439d-bdc0-12c8e813fded>,\n",
            "    <https://fair.healthinformationportal.eu/dataset/9a7ee8a6-4cb7-4b21-b7d6-e8c7a265b729>,\n",
            "    <https://fair.healthinformationportal.eu/dataset/8420983d-e947-4ba4-b91b-2bb4efe988c6>,\n",
            "    <https://fair.healthinformationportal.eu/dataset/075a376f-1c4a-4b27-b3cc-cf5d1b6b7457>,\n",
            "    <https://fair.healthinformationportal.eu/dataset/43f4fc27-da2d-4be9-853e-aab6a3a5a714>,\n",
            "    <https://fair.healthinformationportal.eu/dataset/9c6880c5-2f65-434b-b783-52134d5471dd>,\n",
            "    <https://fair.healthinformationportal.eu/dataset/5bb11eac-c886-4da9-aaf7-a5adfe979778>,\n",
            "    <https://fair.healthinformationportal.eu/dataset/6ab015f4-c3f2-445b-8ce0-fd2244fde85c>,\n",
            "    <https://fair.healthinformationportal.eu/dataset/b5318f32-7250-4cd9-a89d-013b4bb59e1a>,\n",
            "    <https://fair.healthinformationportal.eu/dataset/d816f3ac-2a5c-4e6d-b946-b2a63958c4bc>,\n",
            "    <https://fair.healthinformationportal.eu/dataset/6cd3b25d-2bbf-4c96-9a5d-f3a9927cc07d>,\n",
            "    <https://fair.healthinformationportal.eu/dataset/4282a38f-0caf-4ba5-bb0f-15fd9b7194c2>,\n",
            "    <https://fair.healthinformationportal.eu/dataset/45204352-e70b-4a69-9d55-afd448bd95b3>,\n",
            "    <https://fair.healthinformationportal.eu/dataset/c30e63b0-71cf-45fc-bf73-0abde544cd40>,\n",
            "    <https://fair.healthinformationportal.eu/dataset/7a0cdc70-faad-4e73-9e5f-ba822918da8d>,\n",
            "    <https://fair.healthinformationportal.eu/dataset/c35aa0bc-e3d5-4143-be82-62bd6db1f8ac>,\n",
            "    <https://fair.healthinformationportal.eu/dataset/acd8625c-4186-473d-81d2-26f72486182a>,\n",
            "    <https://fair.healthinformationportal.eu/dataset/39bda011-5001-41e9-8471-b2ae77560b34>,\n",
            "    <https://fair.healthinformationportal.eu/dataset/10afd66c-fef8-448b-ad7e-85dd1d6c4314>,\n",
            "    <https://fair.healthinformationportal.eu/dataset/0b9c953e-9c77-47be-9b7f-73d819eab83a>,\n",
            "    <https://fair.healthinformationportal.eu/dataset/14e9891e-37d1-44e2-afeb-8a866743c491>,\n",
            "    <https://fair.healthinformationportal.eu/dataset/c858fe71-6930-4ae4-b4d4-09bed294a743>,\n",
            "    <https://fair.healthinformationportal.eu/dataset/be47da30-95c6-4253-9027-61b7d929dc31>,\n",
            "    <https://fair.healthinformationportal.eu/dataset/70224cc8-292d-4b16-bd9c-0fd4da2b6fa8>,\n",
            "    <https://fair.healthinformationportal.eu/dataset/540c3b53-5bbc-4fae-96af-a04d71e29d41>,\n",
            "    <https://fair.healthinformationportal.eu/dataset/da996293-a182-4be5-881f-4de0b3348be3>;\n",
            "  <http://www.w3.org/2000/01/rdf-schema#label> \"Belgium National Node\";\n",
            "  dcterms:hasVersion \"1.0\";\n",
            "  dcterms:issued \"2023-10-06T10:13:00.824Z\"^^xsd:dateTime;\n",
            "  dcterms:modified \"2023-10-06T10:13:00.824Z\"^^xsd:dateTime;\n",
            "  dcterms:publisher [ a foaf:Agent;\n",
            "      foaf:name \"Automatic\"\n",
            "    ];\n",
            "  dcterms:title \"Belgium National Node\"@en;\n",
            "  dcat:themeTaxonomy <http://purl.obolibrary.org/obo/NCIT_C16669>, <http://purl.obolibrary.org/obo/OMIT_0007476>,\n",
            "    <https://www.wikidata.org/wiki/Q66982216>, <https://www.wikidata.org/wiki/Q3706138>,\n",
            "    <http://publications.europa.eu/resource/authority/data-theme/HEAL>, <http://purl.obolibrary.org/obo/OMIT_0010070>,\n",
            "    <http://www.ebi.ac.uk/efo/EFO_0004352>, <http://purl.obolibrary.org/obo/NCIT_C16205>,\n",
            "    <http://purl.obolibrary.org/obo/OMIT_0007467>, <https://www.wikidata.org/wiki/Q70364280>,\n",
            "    <http://purl.obolibrary.org/obo/SCDO_0000494>, <https://www.wikidata.org/wiki/Q11000047>,\n",
            "    <http://purl.obolibrary.org/obo/NCIT_C16495>, <http://purl.obolibrary.org/obo/NCIT_C17468>,\n",
            "    <http://purl.obolibrary.org/obo/OMIT_0013846>, <http://purl.obolibrary.org/obo/SCDO_0001090>,\n",
            "    <http://purl.obolibrary.org/obo/OMIT_0013643>, <http://snomed.info/id/420014008>,\n",
            "    <https://www.wikidata.org/wiki/Q12198>, <https://www.wikidata.org/wiki/Q26305989>,\n",
            "    <https://www.wikidata.org/wiki/Q4927522>, <http://purl.obolibrary.org/obo/GSSO_009380>,\n",
            "    <http://purl.obolibrary.org/obo/SCDO_0000948>, <https://www.wikidata.org/wiki/Q17003063>,\n",
            "    <http://purl.obolibrary.org/obo/NCIT_C16877>, <http://purl.obolibrary.org/obo/NCIT_C21007>,\n",
            "    <http://purl.obolibrary.org/obo/OMIT_0010062>, <https://www.wikidata.org/wiki/Q12131>,\n",
            "    <https://www.wikidata.org/wiki/Q1367554>, <https://www.wikidata.org/wiki/Q7981051>,\n",
            "    <http://purl.obolibrary.org/obo/COVIDO_0001141>, <http://purl.obolibrary.org/obo/DOID_0080600>,\n",
            "    <http://purl.obolibrary.org/obo/MONDO_0100096>, <https://www.wikidata.org/wiki/Q84263196>,\n",
            "    <http://purl.obolibrary.org/obo/MONDO_0005550>, <https://www.wikidata.org/wiki/Q18123741>,\n",
            "    <http://edamontology.org/topic_3324>, <http://purl.obolibrary.org/obo/APOLLO_SV_00000239>,\n",
            "    <http://purl.obolibrary.org/obo/IDO_0000436>, <http://purl.obolibrary.org/obo/OBI_1110040>,\n",
            "    <http://www.ebi.ac.uk/efo/EFO_0005741>, <http://purl.obolibrary.org/obo/VO_0000809>,\n",
            "    <https://www.wikidata.org/wiki/Q96482267>, <https://www.wikidata.org/wiki/Q1814351>,\n",
            "    <https://www.wikidata.org/wiki/Q12140>, <http://purl.obolibrary.org/obo/CHEBI_52217>,\n",
            "    <http://purl.obolibrary.org/obo/GSSO_007925>, <https://www.wikidata.org/wiki/Q28885102>,\n",
            "    <http://purl.obolibrary.org/obo/OMIT_0013818>, <http://purl.obolibrary.org/obo/SCDO_0000897>,\n",
            "    <http://purl.obolibrary.org/obo/SCDO_0001082>, <https://www.wikidata.org/wiki/Q1571836>;\n",
            "  dcterms:conformsTo <https://fair.healthinformationportal.eu/profile/a0949e72-4466-4d53-8900-9436d1049a4b> .\n",
            "\n",
            "<https://fair.healthinformationportal.eu/catalog/743a4ddb-b3b3-4c78-8bad-ab8d7d9b0f51/metrics/445c0a70d1e214e545b261559e2842f4>\n",
            "  <http://semanticscience.org/resource/SIO_000332> <https://www.ietf.org/rfc/rfc3986.txt>;\n",
            "  <http://semanticscience.org/resource/SIO_000628> <https://www.ietf.org/rfc/rfc3986.txt> .\n",
            "\n",
            "<https://fair.healthinformationportal.eu/catalog/743a4ddb-b3b3-4c78-8bad-ab8d7d9b0f51/metrics/5d27e854a9e78eb3f663331cd47cdc13>\n",
            "  <http://semanticscience.org/resource/SIO_000332> <https://www.wikidata.org/wiki/Q8777>;\n",
            "  <http://semanticscience.org/resource/SIO_000628> <https://www.wikidata.org/wiki/Q8777> .\n",
            "\n",
            "<https://fair.healthinformationportal.eu/catalog/743a4ddb-b3b3-4c78-8bad-ab8d7d9b0f51#accessRights>\n",
            "  a dcterms:RightsStatement;\n",
            "  dcterms:description \"This resource has no access restriction\" .\n",
            "\n",
            "<https://fair.healthinformationportal.eu/catalog/743a4ddb-b3b3-4c78-8bad-ab8d7d9b0f51#identifier>\n",
            "  a <http://purl.org/spar/datacite/Identifier>;\n",
            "  dcterms:identifier \"https://fair.healthinformationportal.eu/catalog/743a4ddb-b3b3-4c78-8bad-ab8d7d9b0f51\" .\n",
            "\n",
            "<https://fair.healthinformationportal.eu/profile/a0949e72-4466-4d53-8900-9436d1049a4b>\n",
            "  <http://www.w3.org/2000/01/rdf-schema#label> \"Catalog Profile\" .\n",
            "\n",
            "<https://fair.healthinformationportal.eu> a dcat:Resource, dcat:DataService, <https://w3id.org/fdp/fdp-o#MetadataService>,\n",
            "    <https://w3id.org/fdp/fdp-o#FAIRDataPoint>;\n",
            "  dcterms:accessRights <https://fair.healthinformationportal.eu#accessRights>;\n",
            "  dcterms:conformsTo <https://fair.healthinformationportal.eu/profile/77aaad6a-0136-4c6e-88b9-07ffccd0ee4c>;\n",
            "  dcterms:language <http://id.loc.gov/vocabulary/iso639-1/en>;\n",
            "  dcterms:license <https://creativecommons.org/licenses/by-nc/4.0>;\n",
            "  <https://w3id.org/fdp/fdp-o#metadataIdentifier> <https://fair.healthinformationportal.eu#identifier>;\n",
            "  <https://w3id.org/fdp/fdp-o#metadataIssued> \"2023-10-06T09:56:33.262Z\"^^xsd:dateTime;\n",
            "  <https://w3id.org/fdp/fdp-o#metadataModified> \"2024-01-11T19:03:12.621Z\"^^xsd:dateTime;\n",
            "  <http://semanticscience.org/resource/SIO_000628> <https://fair.healthinformationportal.eu/metrics/445c0a70d1e214e545b261559e2842f4>,\n",
            "    <https://fair.healthinformationportal.eu/metrics/5d27e854a9e78eb3f663331cd47cdc13>;\n",
            "  dcat:endpointURL <https://fair.healthinformationportal.eu>;\n",
            "  <https://w3id.org/fdp/fdp-o#fdpSoftwareVersion> \"FDP:v1.16.2~51911d6\";\n",
            "  <https://w3id.org/fdp/fdp-o#metadataCatalog> <https://fair.healthinformationportal.eu/catalog/1c75c2c9-d2cc-44cb-aaa8-cf8c11515c8d>,\n",
            "    <https://fair.healthinformationportal.eu/catalog/e1c7dd1e-fb0d-4f34-ba76-c4f99eb6a226>,\n",
            "    <https://fair.healthinformationportal.eu/catalog/d02513f5-12e6-49db-874b-7bf65bacb616>,\n",
            "    <https://fair.healthinformationportal.eu/catalog/c88b3702-bc14-4f43-9024-33f6185183e9>,\n",
            "    <https://fair.healthinformationportal.eu/catalog/14225c50-00b0-4fba-8300-a677ab0c86f4>,\n",
            "    <https://fair.healthinformationportal.eu/catalog/5f4ee3cc-1387-4320-878f-c03b9990d4ac>,\n",
            "    <https://fair.healthinformationportal.eu/catalog/633b17a9-9df2-4137-93f8-f9d0961362ae>,\n",
            "    <https://fair.healthinformationportal.eu/catalog/99fdcaaa-c0c4-4cb2-8b44-3ec815e1dcdd>,\n",
            "    <https://fair.healthinformationportal.eu/catalog/743a4ddb-b3b3-4c78-8bad-ab8d7d9b0f51>,\n",
            "    <https://fair.healthinformationportal.eu/catalog/2058895c-6ddc-4124-993f-b847bd7ca65c>,\n",
            "    <https://fair.healthinformationportal.eu/catalog/113b6f3a-07b5-484b-9278-4b58d2b247ed>,\n",
            "    <https://fair.healthinformationportal.eu/catalog/beb32aa6-fa49-4994-ab28-8bc32e23c95b>,\n",
            "    <https://fair.healthinformationportal.eu/catalog/c9961230-9850-43a2-9c67-0491ee2a6387>,\n",
            "    <https://fair.healthinformationportal.eu/catalog/a9426ed2-09e5-46ac-bb2b-8a669ee3a16c>,\n",
            "    <https://fair.healthinformationportal.eu/catalog/17412bc2-daf1-491e-94fb-6680f7a67b1e>,\n",
            "    <https://fair.healthinformationportal.eu/catalog/4d24379f-8342-42c7-9576-f4f65ad3314d>,\n",
            "    <https://fair.healthinformationportal.eu/catalog/b9f16511-c257-48e1-b5b1-4fbd8d3dd3d8>,\n",
            "    <https://fair.healthinformationportal.eu/catalog/27d211e6-67e8-4300-8191-a28523426d72>,\n",
            "    <https://fair.healthinformationportal.eu/catalog/cbf99148-653f-4102-a689-395a2c53c044>,\n",
            "    <https://fair.healthinformationportal.eu/catalog/f43fdbeb-f536-4b40-8e11-799eebdcfa47>,\n",
            "    <https://fair.healthinformationportal.eu/catalog/5bc4080d-6d36-4149-b021-b740b9ba4a21>,\n",
            "    <https://fair.healthinformationportal.eu/catalog/b9b65cb5-d8fe-432b-8719-e511cfdd4f8a>,\n",
            "    <https://fair.healthinformationportal.eu/catalog/fb3b0a05-645c-4ae8-a2b9-1b09fcb61861>,\n",
            "    <https://fair.healthinformationportal.eu/catalog/87b595bc-4c75-4092-9143-b961c258694d>;\n",
            "  <https://w3id.org/fdp/fdp-o#uiLanguage> <http://id.loc.gov/vocabulary/iso639-1/en>;\n",
            "  dcterms:rights <http://publications.europa.eu/resource/authority/access-right/PUBLIC>;\n",
            "  <http://www.w3.org/2000/01/rdf-schema#label> \"European Health Information portal endpoint\";\n",
            "  dcterms:description \"Welcome to the one-stop shop that facilitates access to population health and health care data, information and expertise across Europe.\";\n",
            "  dcterms:hasVersion \"1.0\";\n",
            "  dcterms:publisher <https://fair.healthinformationportal.eu#publisher>;\n",
            "  dcterms:title \"European Health Information portal endpoint\" .\n",
            "\n",
            "<https://fair.healthinformationportal.eu#accessRights> a dcterms:RightsStatement;\n",
            "  dcterms:description \"This resource has no access restriction\" .\n",
            "\n",
            "<https://fair.healthinformationportal.eu#identifier> a <http://purl.org/spar/datacite/Identifier>;\n",
            "  dcterms:identifier \"https://fair.healthinformationportal.eu\" .\n",
            "\n",
            "<https://fair.healthinformationportal.eu#publisher> a foaf:Agent;\n",
            "  foaf:name \"HealthInformationPortal.eu\" .\n",
            "\n",
            "<https://fair.healthinformationportal.eu/catalog/> a ldp:DirectContainer;\n",
            "  ldp:hasMemberRelation <https://w3id.org/fdp/fdp-o#metadataCatalog>;\n",
            "  ldp:membershipResource <https://fair.healthinformationportal.eu>;\n",
            "  ldp:contains <https://fair.healthinformationportal.eu/catalog/1c75c2c9-d2cc-44cb-aaa8-cf8c11515c8d>,\n",
            "    <https://fair.healthinformationportal.eu/catalog/e1c7dd1e-fb0d-4f34-ba76-c4f99eb6a226>,\n",
            "    <https://fair.healthinformationportal.eu/catalog/d02513f5-12e6-49db-874b-7bf65bacb616>,\n",
            "    <https://fair.healthinformationportal.eu/catalog/c88b3702-bc14-4f43-9024-33f6185183e9>,\n",
            "    <https://fair.healthinformationportal.eu/catalog/14225c50-00b0-4fba-8300-a677ab0c86f4>,\n",
            "    <https://fair.healthinformationportal.eu/catalog/5f4ee3cc-1387-4320-878f-c03b9990d4ac>,\n",
            "    <https://fair.healthinformationportal.eu/catalog/633b17a9-9df2-4137-93f8-f9d0961362ae>,\n",
            "    <https://fair.healthinformationportal.eu/catalog/99fdcaaa-c0c4-4cb2-8b44-3ec815e1dcdd>,\n",
            "    <https://fair.healthinformationportal.eu/catalog/743a4ddb-b3b3-4c78-8bad-ab8d7d9b0f51>,\n",
            "    <https://fair.healthinformationportal.eu/catalog/2058895c-6ddc-4124-993f-b847bd7ca65c>,\n",
            "    <https://fair.healthinformationportal.eu/catalog/113b6f3a-07b5-484b-9278-4b58d2b247ed>,\n",
            "    <https://fair.healthinformationportal.eu/catalog/beb32aa6-fa49-4994-ab28-8bc32e23c95b>,\n",
            "    <https://fair.healthinformationportal.eu/catalog/c9961230-9850-43a2-9c67-0491ee2a6387>,\n",
            "    <https://fair.healthinformationportal.eu/catalog/a9426ed2-09e5-46ac-bb2b-8a669ee3a16c>,\n",
            "    <https://fair.healthinformationportal.eu/catalog/17412bc2-daf1-491e-94fb-6680f7a67b1e>,\n",
            "    <https://fair.healthinformationportal.eu/catalog/4d24379f-8342-42c7-9576-f4f65ad3314d>,\n",
            "    <https://fair.healthinformationportal.eu/catalog/b9f16511-c257-48e1-b5b1-4fbd8d3dd3d8>,\n",
            "    <https://fair.healthinformationportal.eu/catalog/27d211e6-67e8-4300-8191-a28523426d72>,\n",
            "    <https://fair.healthinformationportal.eu/catalog/cbf99148-653f-4102-a689-395a2c53c044>,\n",
            "    <https://fair.healthinformationportal.eu/catalog/f43fdbeb-f536-4b40-8e11-799eebdcfa47>,\n",
            "    <https://fair.healthinformationportal.eu/catalog/5bc4080d-6d36-4149-b021-b740b9ba4a21>,\n",
            "    <https://fair.healthinformationportal.eu/catalog/b9b65cb5-d8fe-432b-8719-e511cfdd4f8a>,\n",
            "    <https://fair.healthinformationportal.eu/catalog/fb3b0a05-645c-4ae8-a2b9-1b09fcb61861>,\n",
            "    <https://fair.healthinformationportal.eu/catalog/87b595bc-4c75-4092-9143-b961c258694d>;\n",
            "  dcterms:title \"Catalogs\" .\n",
            "\n",
            "<https://fair.healthinformationportal.eu/metrics/445c0a70d1e214e545b261559e2842f4>\n",
            "  <http://semanticscience.org/resource/SIO_000332> <https://www.ietf.org/rfc/rfc3986.txt>;\n",
            "  <http://semanticscience.org/resource/SIO_000628> <https://www.ietf.org/rfc/rfc3986.txt> .\n",
            "\n",
            "<https://fair.healthinformationportal.eu/metrics/5d27e854a9e78eb3f663331cd47cdc13>\n",
            "  <http://semanticscience.org/resource/SIO_000332> <https://www.wikidata.org/wiki/Q8777>;\n",
            "  <http://semanticscience.org/resource/SIO_000628> <https://www.wikidata.org/wiki/Q8777> .\n",
            "\n",
            "<https://fair.healthinformationportal.eu/profile/77aaad6a-0136-4c6e-88b9-07ffccd0ee4c>\n",
            "  <http://www.w3.org/2000/01/rdf-schema#label> \"FAIR Data Point Profile\" .\n",
            "\n"
          ]
        }
      ]
    },
    {
      "cell_type": "markdown",
      "source": [
        "## Turn to graph"
      ],
      "metadata": {
        "id": "tit1t4doYy3l"
      }
    },
    {
      "cell_type": "code",
      "source": [
        "type(resbe.text)"
      ],
      "metadata": {
        "colab": {
          "base_uri": "https://localhost:8080/"
        },
        "id": "Kyen_JIKZSqT",
        "outputId": "cb02df75-2448-42e9-97bc-ff11a40558dc"
      },
      "execution_count": null,
      "outputs": [
        {
          "output_type": "execute_result",
          "data": {
            "text/plain": [
              "str"
            ]
          },
          "metadata": {},
          "execution_count": 54
        }
      ]
    },
    {
      "cell_type": "code",
      "source": [
        "resbe_gr = Graph().parse(data=resbe.text)"
      ],
      "metadata": {
        "id": "inkYUi_tZYAy"
      },
      "execution_count": null,
      "outputs": []
    },
    {
      "cell_type": "code",
      "source": [
        "resbe_gr"
      ],
      "metadata": {
        "colab": {
          "base_uri": "https://localhost:8080/"
        },
        "id": "ONXsm0tdZ61m",
        "outputId": "4e3a1836-a64b-416c-84c6-d3d64731f852"
      },
      "execution_count": null,
      "outputs": [
        {
          "output_type": "execute_result",
          "data": {
            "text/plain": [
              "<Graph identifier=N8602406ebbc04a70917048558959f573 (<class 'rdflib.graph.Graph'>)>"
            ]
          },
          "metadata": {},
          "execution_count": 58
        }
      ]
    },
    {
      "cell_type": "markdown",
      "source": [
        "## Enumerate datasets via iterator"
      ],
      "metadata": {
        "id": "9TEV-tPBa7nL"
      }
    },
    {
      "cell_type": "code",
      "source": [
        "from rdflib.namespace import CSVW, DC, DCAT, DCTERMS, DOAP, FOAF, ODRL2, ORG, OWL, PROF, PROV, RDF, RDFS, SDO, SH, SKOS, SOSA, SSN, TIME, VOID, XMLNS, XSD"
      ],
      "metadata": {
        "id": "EVnVIElzXjA9"
      },
      "execution_count": null,
      "outputs": []
    },
    {
      "cell_type": "code",
      "source": [
        "#for s,p,o in resbe_gr:\n",
        "  #print(s+\"===\"+p+\"===\"+o)"
      ],
      "metadata": {
        "id": "DP83b6iWaTIr"
      },
      "execution_count": null,
      "outputs": []
    },
    {
      "cell_type": "code",
      "source": [
        "dbbe_list = []\n",
        "for s,p,o in resbe_gr.triples((None,DCAT['dataset'],None)):\n",
        "  #print(o)\n",
        "  dbbe_list.append(o)"
      ],
      "metadata": {
        "id": "WosmtO8radtN"
      },
      "execution_count": null,
      "outputs": []
    },
    {
      "cell_type": "code",
      "source": [
        "dbbe_list"
      ],
      "metadata": {
        "colab": {
          "base_uri": "https://localhost:8080/"
        },
        "id": "_b7jWmmabWsY",
        "outputId": "63bb209c-54a4-4d63-9dec-b2cca9ca6dd2"
      },
      "execution_count": null,
      "outputs": [
        {
          "output_type": "execute_result",
          "data": {
            "text/plain": [
              "[rdflib.term.URIRef('https://fair.healthinformationportal.eu/dataset/21cad28d-da68-48c5-915e-e7caecb0d22d'),\n",
              " rdflib.term.URIRef('https://fair.healthinformationportal.eu/dataset/1d07bc2b-2786-40cd-b97e-ec5e41d0cd27'),\n",
              " rdflib.term.URIRef('https://fair.healthinformationportal.eu/dataset/2703449c-3219-4e66-87f3-e7dac7dc878e'),\n",
              " rdflib.term.URIRef('https://fair.healthinformationportal.eu/dataset/087b6cf9-a934-439d-bdc0-12c8e813fded'),\n",
              " rdflib.term.URIRef('https://fair.healthinformationportal.eu/dataset/9a7ee8a6-4cb7-4b21-b7d6-e8c7a265b729'),\n",
              " rdflib.term.URIRef('https://fair.healthinformationportal.eu/dataset/8420983d-e947-4ba4-b91b-2bb4efe988c6'),\n",
              " rdflib.term.URIRef('https://fair.healthinformationportal.eu/dataset/075a376f-1c4a-4b27-b3cc-cf5d1b6b7457'),\n",
              " rdflib.term.URIRef('https://fair.healthinformationportal.eu/dataset/43f4fc27-da2d-4be9-853e-aab6a3a5a714'),\n",
              " rdflib.term.URIRef('https://fair.healthinformationportal.eu/dataset/9c6880c5-2f65-434b-b783-52134d5471dd'),\n",
              " rdflib.term.URIRef('https://fair.healthinformationportal.eu/dataset/5bb11eac-c886-4da9-aaf7-a5adfe979778'),\n",
              " rdflib.term.URIRef('https://fair.healthinformationportal.eu/dataset/6ab015f4-c3f2-445b-8ce0-fd2244fde85c'),\n",
              " rdflib.term.URIRef('https://fair.healthinformationportal.eu/dataset/b5318f32-7250-4cd9-a89d-013b4bb59e1a'),\n",
              " rdflib.term.URIRef('https://fair.healthinformationportal.eu/dataset/d816f3ac-2a5c-4e6d-b946-b2a63958c4bc'),\n",
              " rdflib.term.URIRef('https://fair.healthinformationportal.eu/dataset/6cd3b25d-2bbf-4c96-9a5d-f3a9927cc07d'),\n",
              " rdflib.term.URIRef('https://fair.healthinformationportal.eu/dataset/4282a38f-0caf-4ba5-bb0f-15fd9b7194c2'),\n",
              " rdflib.term.URIRef('https://fair.healthinformationportal.eu/dataset/45204352-e70b-4a69-9d55-afd448bd95b3'),\n",
              " rdflib.term.URIRef('https://fair.healthinformationportal.eu/dataset/c30e63b0-71cf-45fc-bf73-0abde544cd40'),\n",
              " rdflib.term.URIRef('https://fair.healthinformationportal.eu/dataset/7a0cdc70-faad-4e73-9e5f-ba822918da8d'),\n",
              " rdflib.term.URIRef('https://fair.healthinformationportal.eu/dataset/c35aa0bc-e3d5-4143-be82-62bd6db1f8ac'),\n",
              " rdflib.term.URIRef('https://fair.healthinformationportal.eu/dataset/acd8625c-4186-473d-81d2-26f72486182a'),\n",
              " rdflib.term.URIRef('https://fair.healthinformationportal.eu/dataset/39bda011-5001-41e9-8471-b2ae77560b34'),\n",
              " rdflib.term.URIRef('https://fair.healthinformationportal.eu/dataset/10afd66c-fef8-448b-ad7e-85dd1d6c4314'),\n",
              " rdflib.term.URIRef('https://fair.healthinformationportal.eu/dataset/0b9c953e-9c77-47be-9b7f-73d819eab83a'),\n",
              " rdflib.term.URIRef('https://fair.healthinformationportal.eu/dataset/14e9891e-37d1-44e2-afeb-8a866743c491'),\n",
              " rdflib.term.URIRef('https://fair.healthinformationportal.eu/dataset/c858fe71-6930-4ae4-b4d4-09bed294a743'),\n",
              " rdflib.term.URIRef('https://fair.healthinformationportal.eu/dataset/be47da30-95c6-4253-9027-61b7d929dc31'),\n",
              " rdflib.term.URIRef('https://fair.healthinformationportal.eu/dataset/70224cc8-292d-4b16-bd9c-0fd4da2b6fa8'),\n",
              " rdflib.term.URIRef('https://fair.healthinformationportal.eu/dataset/540c3b53-5bbc-4fae-96af-a04d71e29d41'),\n",
              " rdflib.term.URIRef('https://fair.healthinformationportal.eu/dataset/da996293-a182-4be5-881f-4de0b3348be3')]"
            ]
          },
          "metadata": {},
          "execution_count": 73
        }
      ]
    },
    {
      "cell_type": "code",
      "source": [],
      "metadata": {
        "id": "KFvyWuyAb359"
      },
      "execution_count": null,
      "outputs": []
    },
    {
      "cell_type": "markdown",
      "source": [
        "## Enumerate datasets via query"
      ],
      "metadata": {
        "id": "TAp27hI7cA8r"
      }
    },
    {
      "cell_type": "code",
      "source": [
        "datasets_query = \"\"\"\n",
        "SELECT DISTINCT ?o\n",
        "WHERE {\n",
        "  ?s dcat:dataset ?o .\n",
        "}\"\"\""
      ],
      "metadata": {
        "id": "s3Wm0eLFWXAA"
      },
      "execution_count": null,
      "outputs": []
    },
    {
      "cell_type": "code",
      "source": [
        "qres = resbe_gr.query(datasets_query)"
      ],
      "metadata": {
        "id": "CJyi-I30cDvW"
      },
      "execution_count": null,
      "outputs": []
    },
    {
      "cell_type": "code",
      "source": [
        "dbbe_list_m2 = []\n",
        "for row in qres:\n",
        "  dbbe_list_m2.append(row.o)"
      ],
      "metadata": {
        "id": "dtURUFUycUoV"
      },
      "execution_count": null,
      "outputs": []
    },
    {
      "cell_type": "code",
      "source": [
        "dbbe_list_m2"
      ],
      "metadata": {
        "colab": {
          "base_uri": "https://localhost:8080/"
        },
        "id": "DCsAIZ2SclTO",
        "outputId": "24f73734-40a7-42c0-fabd-4be52d2b9566"
      },
      "execution_count": null,
      "outputs": [
        {
          "output_type": "execute_result",
          "data": {
            "text/plain": [
              "[rdflib.term.URIRef('https://fair.healthinformationportal.eu/dataset/21cad28d-da68-48c5-915e-e7caecb0d22d'),\n",
              " rdflib.term.URIRef('https://fair.healthinformationportal.eu/dataset/1d07bc2b-2786-40cd-b97e-ec5e41d0cd27'),\n",
              " rdflib.term.URIRef('https://fair.healthinformationportal.eu/dataset/2703449c-3219-4e66-87f3-e7dac7dc878e'),\n",
              " rdflib.term.URIRef('https://fair.healthinformationportal.eu/dataset/087b6cf9-a934-439d-bdc0-12c8e813fded'),\n",
              " rdflib.term.URIRef('https://fair.healthinformationportal.eu/dataset/9a7ee8a6-4cb7-4b21-b7d6-e8c7a265b729'),\n",
              " rdflib.term.URIRef('https://fair.healthinformationportal.eu/dataset/8420983d-e947-4ba4-b91b-2bb4efe988c6'),\n",
              " rdflib.term.URIRef('https://fair.healthinformationportal.eu/dataset/075a376f-1c4a-4b27-b3cc-cf5d1b6b7457'),\n",
              " rdflib.term.URIRef('https://fair.healthinformationportal.eu/dataset/43f4fc27-da2d-4be9-853e-aab6a3a5a714'),\n",
              " rdflib.term.URIRef('https://fair.healthinformationportal.eu/dataset/9c6880c5-2f65-434b-b783-52134d5471dd'),\n",
              " rdflib.term.URIRef('https://fair.healthinformationportal.eu/dataset/5bb11eac-c886-4da9-aaf7-a5adfe979778'),\n",
              " rdflib.term.URIRef('https://fair.healthinformationportal.eu/dataset/6ab015f4-c3f2-445b-8ce0-fd2244fde85c'),\n",
              " rdflib.term.URIRef('https://fair.healthinformationportal.eu/dataset/b5318f32-7250-4cd9-a89d-013b4bb59e1a'),\n",
              " rdflib.term.URIRef('https://fair.healthinformationportal.eu/dataset/d816f3ac-2a5c-4e6d-b946-b2a63958c4bc'),\n",
              " rdflib.term.URIRef('https://fair.healthinformationportal.eu/dataset/6cd3b25d-2bbf-4c96-9a5d-f3a9927cc07d'),\n",
              " rdflib.term.URIRef('https://fair.healthinformationportal.eu/dataset/4282a38f-0caf-4ba5-bb0f-15fd9b7194c2'),\n",
              " rdflib.term.URIRef('https://fair.healthinformationportal.eu/dataset/45204352-e70b-4a69-9d55-afd448bd95b3'),\n",
              " rdflib.term.URIRef('https://fair.healthinformationportal.eu/dataset/c30e63b0-71cf-45fc-bf73-0abde544cd40'),\n",
              " rdflib.term.URIRef('https://fair.healthinformationportal.eu/dataset/7a0cdc70-faad-4e73-9e5f-ba822918da8d'),\n",
              " rdflib.term.URIRef('https://fair.healthinformationportal.eu/dataset/c35aa0bc-e3d5-4143-be82-62bd6db1f8ac'),\n",
              " rdflib.term.URIRef('https://fair.healthinformationportal.eu/dataset/acd8625c-4186-473d-81d2-26f72486182a'),\n",
              " rdflib.term.URIRef('https://fair.healthinformationportal.eu/dataset/39bda011-5001-41e9-8471-b2ae77560b34'),\n",
              " rdflib.term.URIRef('https://fair.healthinformationportal.eu/dataset/10afd66c-fef8-448b-ad7e-85dd1d6c4314'),\n",
              " rdflib.term.URIRef('https://fair.healthinformationportal.eu/dataset/0b9c953e-9c77-47be-9b7f-73d819eab83a'),\n",
              " rdflib.term.URIRef('https://fair.healthinformationportal.eu/dataset/14e9891e-37d1-44e2-afeb-8a866743c491'),\n",
              " rdflib.term.URIRef('https://fair.healthinformationportal.eu/dataset/c858fe71-6930-4ae4-b4d4-09bed294a743'),\n",
              " rdflib.term.URIRef('https://fair.healthinformationportal.eu/dataset/be47da30-95c6-4253-9027-61b7d929dc31'),\n",
              " rdflib.term.URIRef('https://fair.healthinformationportal.eu/dataset/70224cc8-292d-4b16-bd9c-0fd4da2b6fa8'),\n",
              " rdflib.term.URIRef('https://fair.healthinformationportal.eu/dataset/540c3b53-5bbc-4fae-96af-a04d71e29d41'),\n",
              " rdflib.term.URIRef('https://fair.healthinformationportal.eu/dataset/da996293-a182-4be5-881f-4de0b3348be3')]"
            ]
          },
          "metadata": {},
          "execution_count": 83
        }
      ]
    },
    {
      "cell_type": "markdown",
      "source": [
        "## Query datasets\n",
        "(restricted to three here)"
      ],
      "metadata": {
        "id": "W0m0OT_PeGLw"
      }
    },
    {
      "cell_type": "code",
      "source": [
        "mydb = dbbe_list_m2[0:3]"
      ],
      "metadata": {
        "id": "fQhwZOuFcmeh"
      },
      "execution_count": null,
      "outputs": []
    },
    {
      "cell_type": "code",
      "source": [
        "mydb"
      ],
      "metadata": {
        "colab": {
          "base_uri": "https://localhost:8080/"
        },
        "id": "no2tGQAwfYJI",
        "outputId": "a0f70687-a681-452d-9618-5c544a7e1f67"
      },
      "execution_count": null,
      "outputs": [
        {
          "output_type": "execute_result",
          "data": {
            "text/plain": [
              "[rdflib.term.URIRef('https://fair.healthinformationportal.eu/dataset/21cad28d-da68-48c5-915e-e7caecb0d22d'),\n",
              " rdflib.term.URIRef('https://fair.healthinformationportal.eu/dataset/1d07bc2b-2786-40cd-b97e-ec5e41d0cd27'),\n",
              " rdflib.term.URIRef('https://fair.healthinformationportal.eu/dataset/2703449c-3219-4e66-87f3-e7dac7dc878e')]"
            ]
          },
          "metadata": {},
          "execution_count": 99
        }
      ]
    },
    {
      "cell_type": "code",
      "source": [
        "headers = {'Accept': 'text/turtle'}\n",
        "res = requests.get(url=uri, headers=headers)\n",
        "#print(res.text)"
      ],
      "metadata": {
        "id": "dvOcLL8veQgf"
      },
      "execution_count": null,
      "outputs": []
    },
    {
      "cell_type": "code",
      "source": [
        "res_all = Graph()"
      ],
      "metadata": {
        "id": "2p4PYxSeeiPS"
      },
      "execution_count": null,
      "outputs": []
    },
    {
      "cell_type": "code",
      "source": [
        "for urin in mydb:\n",
        "\n",
        "  res = requests.get(url=urin, headers=headers)\n",
        "  gres = Graph().parse(data=res.text)\n",
        "\n",
        "  res_all = res_all + gres"
      ],
      "metadata": {
        "id": "OwvmC-yMekXc"
      },
      "execution_count": null,
      "outputs": []
    },
    {
      "cell_type": "code",
      "source": [
        "print(res_all.serialize())"
      ],
      "metadata": {
        "colab": {
          "base_uri": "https://localhost:8080/"
        },
        "id": "EraKWyXievv2",
        "outputId": "28fb2282-4196-4e8f-935c-a86c234026c3"
      },
      "execution_count": null,
      "outputs": [
        {
          "output_type": "stream",
          "name": "stdout",
          "text": [
            "@prefix dcat: <http://www.w3.org/ns/dcat#> .\n",
            "@prefix dcterms: <http://purl.org/dc/terms/> .\n",
            "@prefix foaf: <http://xmlns.com/foaf/0.1/> .\n",
            "@prefix ldp: <http://www.w3.org/ns/ldp#> .\n",
            "@prefix ns1: <http://semanticscience.org/resource/> .\n",
            "@prefix ns2: <https://w3id.org/fdp/fdp-o#> .\n",
            "@prefix prov: <http://www.w3.org/ns/prov#> .\n",
            "@prefix rdfs: <http://www.w3.org/2000/01/rdf-schema#> .\n",
            "@prefix xsd: <http://www.w3.org/2001/XMLSchema#> .\n",
            "\n",
            "<https://fair.healthinformationportal.eu/distribution/> a ldp:DirectContainer ;\n",
            "    dcterms:title \"Distributions\" ;\n",
            "    ldp:hasMemberRelation dcat:distribution ;\n",
            "    ldp:membershipResource <https://fair.healthinformationportal.eu/dataset/1d07bc2b-2786-40cd-b97e-ec5e41d0cd27>,\n",
            "        <https://fair.healthinformationportal.eu/dataset/21cad28d-da68-48c5-915e-e7caecb0d22d>,\n",
            "        <https://fair.healthinformationportal.eu/dataset/2703449c-3219-4e66-87f3-e7dac7dc878e> .\n",
            "\n",
            "<https://fair.healthinformationportal.eu/dataset/1d07bc2b-2786-40cd-b97e-ec5e41d0cd27> a dcat:Dataset,\n",
            "        dcat:Resource ;\n",
            "    rdfs:label \"Health Examination Survey\" ;\n",
            "    dcterms:accessRights <https://fair.healthinformationportal.eu/dataset/1d07bc2b-2786-40cd-b97e-ec5e41d0cd27#accessRights> ;\n",
            "    dcterms:conformsTo <https://fair.healthinformationportal.eu/profile/2f08228e-1789-40f8-84cd-28e3288c3604> ;\n",
            "    dcterms:creator \"Sciensano\"@en ;\n",
            "    dcterms:description \"In a Health Examination Survey (HES) objective health information is collected among a representative sample of the total population, including those who have no contact with health services. The collection of objective health measures at population level is particularly important for items that are often not accurately reported in a&#160;health interview survey&#160;(e.g. height and weight) and for diseases that may be present without any symptoms but have important health consequences (e.g. high blood pressure or high cholesterol level in the blood). The data from&#160;HES&#160;are essential for solid health policy development based on the population&#8217;s&#160;needs.  In 2018 the sixth&#160;Belgian Health Interview Survey (HIS)&#160;was organised by Sciensano. Information on the health status, lifestyle, health care use and socio-demographic characteristics were collected among a representative sample of 11.300 people residing in&#160;Belgium. From March 1st 2018 onwards, eligible&#160;HIS&#160;participants were invited to participate also in a&#160;HES. Respondents were eligible if they are at least 18 years and had participated in the&#160;HIS&#160;themselves (no proxy interview). About 1.100 respondents agreed to participate; they were visited at home by a trained nurse.&#160;&#160;  The&#160;HES included a short additional questionnaire, a physical examination and the collection of a blood sample. The physical examination consisted of the measurement of height, weight, waist circumference and blood pressure. Laboratory blood analyses included the measurement of glucose and cholesterol in the blood. The results were transferred to Sciensano in a coded way, ensuring that participants could not be identified. Through a unique identification code it is possible to link the&#160;HES&#160;data with information from the same people that was obtained in the&#160;HIS. {\\\"Topics\\\": \\\"Determinants of health, Health status\\\", \\\"Data collection period\\\": \\\"\\\", \\\"Funding\\\": \\\"\\\", \\\"Geo coverage\\\": \\\"Nuts 2\\\", \\\"Target population\\\": \\\"General population\\\", \\\"Age range from\\\": \\\"\\\", \\\"Age range to\\\": \\\"\\\", \\\"Updating periodicity\\\": \\\"\\\", \\\"Sample size\\\": \\\"\\\", \\\"Personal identifier\\\": \\\"Participant number\\\", \\\"Level of aggregation\\\": \\\"Individual\\\", \\\"Linkage possible\\\": \\\"Yes\\\", \\\"Permanent identifier of the data source\\\": \\\"\\\", \\\"Regulations for data sharing\\\": \\\"\\\"}\"@en ;\n",
            "    dcterms:hasVersion \"1.0\" ;\n",
            "    dcterms:identifier <https://www.healthinformationportal.eu/health-information-sources/health-examination-survey-0> ;\n",
            "    dcterms:isPartOf <https://fair.healthinformationportal.eu/catalog/743a4ddb-b3b3-4c78-8bad-ab8d7d9b0f51> ;\n",
            "    dcterms:language <https://publications.europa.eu/resource/authority/language/ENG>,\n",
            "        <https://publications.europa.eu/resource/authority/language/FRA>,\n",
            "        <https://publications.europa.eu/resource/authority/language/NLD> ;\n",
            "    dcterms:license <https://creativecommons.org/licenses/by/4.0> ;\n",
            "    dcterms:provenance \"Survey/interview data\" ;\n",
            "    dcterms:publisher [ a foaf:Agent ;\n",
            "            foaf:name \"Sciensano HIS team\" ] ;\n",
            "    dcterms:spatial <https://publications.europa.eu/resource/authority/country/BEL> ;\n",
            "    dcterms:title \"Health Examination Survey\"@en ;\n",
            "    ns1:SIO_000628 <https://fair.healthinformationportal.eu/dataset/1d07bc2b-2786-40cd-b97e-ec5e41d0cd27/metrics/445c0a70d1e214e545b261559e2842f4>,\n",
            "        <https://fair.healthinformationportal.eu/dataset/1d07bc2b-2786-40cd-b97e-ec5e41d0cd27/metrics/5d27e854a9e78eb3f663331cd47cdc13> ;\n",
            "    dcat:contactPoint <https://healthinformationportal.eu> ;\n",
            "    dcat:keyword \"Health examination, Clinical measurement, Monitoring\"@en ;\n",
            "    dcat:landingPage <https://www.healthinformationportal.eu/health-information-sources/health-examination-survey-0> ;\n",
            "    dcat:theme <http://publications.europa.eu/resource/authority/data-theme/HEAL>,\n",
            "        <http://purl.obolibrary.org/obo/NCIT_C16669>,\n",
            "        <http://purl.obolibrary.org/obo/OMIT_0007476>,\n",
            "        <https://www.wikidata.org/wiki/Q3706138>,\n",
            "        <https://www.wikidata.org/wiki/Q66982216> ;\n",
            "    prov:wasGeneratedBy \"Survey/interview data\"@en ;\n",
            "    ns2:metadataIdentifier <https://fair.healthinformationportal.eu/dataset/1d07bc2b-2786-40cd-b97e-ec5e41d0cd27#identifier> ;\n",
            "    ns2:metadataIssued \"2023-10-06T10:13:24.680000+00:00\"^^xsd:dateTime ;\n",
            "    ns2:metadataModified \"2023-10-25T14:01:48.101000+00:00\"^^xsd:dateTime .\n",
            "\n",
            "<https://fair.healthinformationportal.eu/dataset/1d07bc2b-2786-40cd-b97e-ec5e41d0cd27#accessRights> a dcterms:RightsStatement ;\n",
            "    dcterms:description \"This resource has no access restriction\" .\n",
            "\n",
            "<https://fair.healthinformationportal.eu/dataset/1d07bc2b-2786-40cd-b97e-ec5e41d0cd27#identifier> a <http://purl.org/spar/datacite/Identifier> ;\n",
            "    dcterms:identifier \"https://fair.healthinformationportal.eu/dataset/1d07bc2b-2786-40cd-b97e-ec5e41d0cd27\" .\n",
            "\n",
            "<https://fair.healthinformationportal.eu/dataset/1d07bc2b-2786-40cd-b97e-ec5e41d0cd27/metrics/445c0a70d1e214e545b261559e2842f4> ns1:SIO_000332 <https://www.ietf.org/rfc/rfc3986.txt> ;\n",
            "    ns1:SIO_000628 <https://www.ietf.org/rfc/rfc3986.txt> .\n",
            "\n",
            "<https://fair.healthinformationportal.eu/dataset/1d07bc2b-2786-40cd-b97e-ec5e41d0cd27/metrics/5d27e854a9e78eb3f663331cd47cdc13> ns1:SIO_000332 <https://www.wikidata.org/wiki/Q8777> ;\n",
            "    ns1:SIO_000628 <https://www.wikidata.org/wiki/Q8777> .\n",
            "\n",
            "<https://fair.healthinformationportal.eu/dataset/21cad28d-da68-48c5-915e-e7caecb0d22d> a dcat:Dataset,\n",
            "        dcat:Resource ;\n",
            "    rdfs:label \"Health Interview  Survey\" ;\n",
            "    dcterms:accessRights <https://fair.healthinformationportal.eu/dataset/21cad28d-da68-48c5-915e-e7caecb0d22d#accessRights> ;\n",
            "    dcterms:conformsTo <https://fair.healthinformationportal.eu/profile/2f08228e-1789-40f8-84cd-28e3288c3604> ;\n",
            "    dcterms:creator \"Sciensano\"@en ;\n",
            "    dcterms:description \"A national Health Interview Survey (HIS) provides an overall picture of the health status of the population&#160;and allows to identify the main health problems, as well as the social and behavioral factors that influence them.&#160;This information enables health authorities to pursue&#160;a proactive health policy aimed at improving public health and addressing the needs of groups at risk. Researchers, experts and the press use the results of the&#160;HIS.&#160;  Sciensano organized a large-scale Health Interview Survey (HIS) among the Belgian population for the first time in 1997, and is repeated every 4 to 5 years since. Sciensano will organize&#160;the 7th&#160;HIS&#160;in&#160;2023.  The&#160;HIS&#160;collects information on a&#160;wide range of health topics: physical and mental health, lifestyle, use of health care and preventive services, perception of the physical and social environment, etc. Furthermore, the&#160;HIS&#160;has been part of the European Health Interview Survey (EHIS) since 2013. This allows&#160;not only to study time trends in different health domains and in health inequalities, but also to compare the Belgian results with those of the other&#160;EU&#160;Member States. {\\\"Topics\\\": \\\"Determinants of health, Health status\\\", \\\"Data collection period\\\": \\\"1997-01-01\\\", \\\"Funding\\\": \\\"\\\", \\\"Geo coverage\\\": \\\"Nuts 1\\\", \\\"Target population\\\": \\\"General population\\\", \\\"Age range from\\\": \\\"\\\", \\\"Age range to\\\": \\\"\\\", \\\"Updating periodicity\\\": \\\"\\\", \\\"Sample size\\\": \\\"\\\", \\\"Personal identifier\\\": \\\"Participant number\\\", \\\"Level of aggregation\\\": \\\"Individual\\\", \\\"Linkage possible\\\": \\\"Yes\\\", \\\"Permanent identifier of the data source\\\": \\\"\\\", \\\"Regulations for data sharing\\\": \\\"\\\"}\"@en ;\n",
            "    dcterms:hasVersion \"1.0\" ;\n",
            "    dcterms:identifier <https://www.healthinformationportal.eu/health-information-sources/health-interview-survey> ;\n",
            "    dcterms:isPartOf <https://fair.healthinformationportal.eu/catalog/743a4ddb-b3b3-4c78-8bad-ab8d7d9b0f51> ;\n",
            "    dcterms:language <https://publications.europa.eu/resource/authority/language/ENG>,\n",
            "        <https://publications.europa.eu/resource/authority/language/FRA>,\n",
            "        <https://publications.europa.eu/resource/authority/language/NLD> ;\n",
            "    dcterms:license <https://creativecommons.org/licenses/by/4.0> ;\n",
            "    dcterms:provenance \"Survey/interview data\" ;\n",
            "    dcterms:publisher [ a foaf:Agent ;\n",
            "            foaf:name \"HIS team Sciensano\" ] ;\n",
            "    dcterms:spatial <https://publications.europa.eu/resource/authority/country/BEL> ;\n",
            "    dcterms:temporal \"1997-01-01T00:00:00+00:00\"^^xsd:dateTime ;\n",
            "    dcterms:title \"Health Interview  Survey\"@en ;\n",
            "    ns1:SIO_000628 <https://fair.healthinformationportal.eu/dataset/21cad28d-da68-48c5-915e-e7caecb0d22d/metrics/445c0a70d1e214e545b261559e2842f4>,\n",
            "        <https://fair.healthinformationportal.eu/dataset/21cad28d-da68-48c5-915e-e7caecb0d22d/metrics/5d27e854a9e78eb3f663331cd47cdc13> ;\n",
            "    dcat:contactPoint <https://healthinformationportal.eu> ;\n",
            "    dcat:keyword \"household, general population, home visit, lifestyle\"@en ;\n",
            "    dcat:landingPage <https://www.healthinformationportal.eu/health-information-sources/health-interview-survey> ;\n",
            "    dcat:theme <http://publications.europa.eu/resource/authority/data-theme/HEAL>,\n",
            "        <http://purl.obolibrary.org/obo/NCIT_C16669>,\n",
            "        <http://purl.obolibrary.org/obo/OMIT_0007476>,\n",
            "        <https://www.wikidata.org/wiki/Q3706138>,\n",
            "        <https://www.wikidata.org/wiki/Q66982216> ;\n",
            "    prov:wasGeneratedBy \"Survey/interview data\"@en ;\n",
            "    ns2:metadataIdentifier <https://fair.healthinformationportal.eu/dataset/21cad28d-da68-48c5-915e-e7caecb0d22d#identifier> ;\n",
            "    ns2:metadataIssued \"2023-10-06T10:13:24.083000+00:00\"^^xsd:dateTime ;\n",
            "    ns2:metadataModified \"2023-10-25T14:01:47.590000+00:00\"^^xsd:dateTime .\n",
            "\n",
            "<https://fair.healthinformationportal.eu/dataset/21cad28d-da68-48c5-915e-e7caecb0d22d#accessRights> a dcterms:RightsStatement ;\n",
            "    dcterms:description \"This resource has no access restriction\" .\n",
            "\n",
            "<https://fair.healthinformationportal.eu/dataset/21cad28d-da68-48c5-915e-e7caecb0d22d#identifier> a <http://purl.org/spar/datacite/Identifier> ;\n",
            "    dcterms:identifier \"https://fair.healthinformationportal.eu/dataset/21cad28d-da68-48c5-915e-e7caecb0d22d\" .\n",
            "\n",
            "<https://fair.healthinformationportal.eu/dataset/21cad28d-da68-48c5-915e-e7caecb0d22d/metrics/445c0a70d1e214e545b261559e2842f4> ns1:SIO_000332 <https://www.ietf.org/rfc/rfc3986.txt> ;\n",
            "    ns1:SIO_000628 <https://www.ietf.org/rfc/rfc3986.txt> .\n",
            "\n",
            "<https://fair.healthinformationportal.eu/dataset/21cad28d-da68-48c5-915e-e7caecb0d22d/metrics/5d27e854a9e78eb3f663331cd47cdc13> ns1:SIO_000332 <https://www.wikidata.org/wiki/Q8777> ;\n",
            "    ns1:SIO_000628 <https://www.wikidata.org/wiki/Q8777> .\n",
            "\n",
            "<https://fair.healthinformationportal.eu/dataset/2703449c-3219-4e66-87f3-e7dac7dc878e> a dcat:Dataset,\n",
            "        dcat:Resource ;\n",
            "    rdfs:label \"Belgian national Food Consumption Survey\" ;\n",
            "    dcterms:accessRights <https://fair.healthinformationportal.eu/dataset/2703449c-3219-4e66-87f3-e7dac7dc878e#accessRights> ;\n",
            "    dcterms:conformsTo <https://fair.healthinformationportal.eu/profile/2f08228e-1789-40f8-84cd-28e3288c3604> ;\n",
            "    dcterms:creator \"Sciensano\"@en ;\n",
            "    dcterms:description \"The first National Food Consumption Survey in Belgium was conducted in 2004 among 3,200 adults aged 15 and above. Nationally representative data on the Belgian population were collected in 2014-2015 for people between 3 and 64 years old. The next data collection wave is planned for 2022 and will collect food consumption data from 3,020 participants aged 3 and&#160;above.  Participants provide&#160;detailed information about their diets&#160;spread over two non-consecutive days via a 24-hour dietary recall. In 2022, 1,400 additional participants will be surveyed in Brussels and in the German-speaking Community using the Food Frequency Questionnaire method. In addition, all participants provide information on topics such&#160;as&#160;   \ttheir eating&#160;habits,&#160; \ttheir opinions on the food&#160;policy,&#160; \ttheir physical&#160;activity \ttheir sedentary&#160;behaviour.&#160;    Weight, height, and waist circumference are also measured objectively. In children and adolescents, physical activity and sedentary behaviour were measured objectively using an accelerometer in 2014-2015. A detailed description of the methodology and the results are available on the website of the&#160;2014-2015 Belgian Food Consumption Survey.&#160;Nutrition and eating habits as well as food policies change constantly, which is why food consumption surveys need to be organised&#160;regularly.&#160; {\\\"Topics\\\": \\\"Determinants of health, Health status\\\", \\\"Data collection period\\\": \\\"\\\", \\\"Funding\\\": \\\"In 2014, the survey was funded by&#160;WIV, SPF/FOD, EFSA.  In 2022, the survey is funded by the&#160;Federal State, Flanders, Wallonia, German Community, COCOM, COCOF.&#160;\\\", \\\"Geo coverage\\\": \\\"Nuts 1\\\", \\\"Target population\\\": \\\"General population\\\", \\\"Age range from\\\": \\\"\\\", \\\"Age range to\\\": \\\"\\\", \\\"Updating periodicity\\\": \\\"\\\", \\\"Sample size\\\": \\\"\\\", \\\"Personal identifier\\\": \\\"Participant number\\\", \\\"Level of aggregation\\\": \\\"Individual\\\", \\\"Linkage possible\\\": \\\"No\\\", \\\"Permanent identifier of the data source\\\": \\\"\\\", \\\"Regulations for data sharing\\\": \\\"\\\"}\"@en ;\n",
            "    dcterms:hasVersion \"1.0\" ;\n",
            "    dcterms:identifier <https://www.healthinformationportal.eu/health-information-sources/belgian-national-food-consumption-survey> ;\n",
            "    dcterms:isPartOf <https://fair.healthinformationportal.eu/catalog/743a4ddb-b3b3-4c78-8bad-ab8d7d9b0f51> ;\n",
            "    dcterms:language <https://publications.europa.eu/resource/authority/language/ENG>,\n",
            "        <https://publications.europa.eu/resource/authority/language/FRA>,\n",
            "        <https://publications.europa.eu/resource/authority/language/NLD> ;\n",
            "    dcterms:license <https://creativecommons.org/licenses/by/4.0> ;\n",
            "    dcterms:provenance \"Survey/interview data\" ;\n",
            "    dcterms:publisher [ a foaf:Agent ;\n",
            "            foaf:name \"Sciensano FCS team\" ] ;\n",
            "    dcterms:spatial <https://publications.europa.eu/resource/authority/country/BEL> ;\n",
            "    dcterms:title \"Belgian national Food Consumption Survey\"@en ;\n",
            "    ns1:SIO_000628 <https://fair.healthinformationportal.eu/dataset/2703449c-3219-4e66-87f3-e7dac7dc878e/metrics/445c0a70d1e214e545b261559e2842f4>,\n",
            "        <https://fair.healthinformationportal.eu/dataset/2703449c-3219-4e66-87f3-e7dac7dc878e/metrics/5d27e854a9e78eb3f663331cd47cdc13> ;\n",
            "    dcat:contactPoint <https://healthinformationportal.eu> ;\n",
            "    dcat:keyword \"Food, Guidelines, lifestyle\"@en ;\n",
            "    dcat:landingPage <https://www.healthinformationportal.eu/health-information-sources/belgian-national-food-consumption-survey> ;\n",
            "    dcat:theme <http://publications.europa.eu/resource/authority/data-theme/HEAL>,\n",
            "        <http://purl.obolibrary.org/obo/NCIT_C16669>,\n",
            "        <http://purl.obolibrary.org/obo/OMIT_0007476>,\n",
            "        <https://www.wikidata.org/wiki/Q3706138>,\n",
            "        <https://www.wikidata.org/wiki/Q66982216> ;\n",
            "    prov:wasGeneratedBy \"Survey/interview data\"@en ;\n",
            "    ns2:metadataIdentifier <https://fair.healthinformationportal.eu/dataset/2703449c-3219-4e66-87f3-e7dac7dc878e#identifier> ;\n",
            "    ns2:metadataIssued \"2023-10-06T10:13:25.262000+00:00\"^^xsd:dateTime ;\n",
            "    ns2:metadataModified \"2023-10-25T14:01:48.647000+00:00\"^^xsd:dateTime .\n",
            "\n",
            "<https://fair.healthinformationportal.eu/dataset/2703449c-3219-4e66-87f3-e7dac7dc878e#accessRights> a dcterms:RightsStatement ;\n",
            "    dcterms:description \"This resource has no access restriction\" .\n",
            "\n",
            "<https://fair.healthinformationportal.eu/dataset/2703449c-3219-4e66-87f3-e7dac7dc878e#identifier> a <http://purl.org/spar/datacite/Identifier> ;\n",
            "    dcterms:identifier \"https://fair.healthinformationportal.eu/dataset/2703449c-3219-4e66-87f3-e7dac7dc878e\" .\n",
            "\n",
            "<https://fair.healthinformationportal.eu/dataset/2703449c-3219-4e66-87f3-e7dac7dc878e/metrics/445c0a70d1e214e545b261559e2842f4> ns1:SIO_000332 <https://www.ietf.org/rfc/rfc3986.txt> ;\n",
            "    ns1:SIO_000628 <https://www.ietf.org/rfc/rfc3986.txt> .\n",
            "\n",
            "<https://fair.healthinformationportal.eu/dataset/2703449c-3219-4e66-87f3-e7dac7dc878e/metrics/5d27e854a9e78eb3f663331cd47cdc13> ns1:SIO_000332 <https://www.wikidata.org/wiki/Q8777> ;\n",
            "    ns1:SIO_000628 <https://www.wikidata.org/wiki/Q8777> .\n",
            "\n",
            "<https://fair.healthinformationportal.eu/profile/2f08228e-1789-40f8-84cd-28e3288c3604> rdfs:label \"Dataset Profile\" .\n",
            "\n",
            "\n"
          ]
        }
      ]
    },
    {
      "cell_type": "code",
      "source": [],
      "metadata": {
        "id": "mT1NiFH6fCOc"
      },
      "execution_count": null,
      "outputs": []
    }
  ]
}