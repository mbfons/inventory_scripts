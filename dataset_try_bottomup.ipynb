{
  "nbformat": 4,
  "nbformat_minor": 0,
  "metadata": {
    "colab": {
      "provenance": [],
      "authorship_tag": "ABX9TyPVcLfOi/R9AvggUshZbfb3",
      "include_colab_link": true
    },
    "kernelspec": {
      "name": "python3",
      "display_name": "Python 3"
    },
    "language_info": {
      "name": "python"
    }
  },
  "cells": [
    {
      "cell_type": "markdown",
      "metadata": {
        "id": "view-in-github",
        "colab_type": "text"
      },
      "source": [
        "<a href=\"https://colab.research.google.com/github/mbfons/inventory_scripts/blob/master/dataset_try_bottomup.ipynb\" target=\"_parent\"><img src=\"https://colab.research.google.com/assets/colab-badge.svg\" alt=\"Open In Colab\"/></a>"
      ]
    },
    {
      "cell_type": "code",
      "execution_count": null,
      "metadata": {
        "colab": {
          "base_uri": "https://localhost:8080/"
        },
        "id": "g0shxXSUIewO",
        "outputId": "817e82aa-509e-4380-bb7f-ff2319ad60e2"
      },
      "outputs": [
        {
          "output_type": "stream",
          "name": "stdout",
          "text": [
            "Collecting rdflib\n",
            "  Downloading rdflib-7.0.0-py3-none-any.whl (531 kB)\n",
            "\u001b[2K     \u001b[90m━━━━━━━━━━━━━━━━━━━━━━━━━━━━━━━━━━━━━━━━\u001b[0m \u001b[32m531.9/531.9 kB\u001b[0m \u001b[31m828.1 kB/s\u001b[0m eta \u001b[36m0:00:00\u001b[0m\n",
            "\u001b[?25hCollecting isodate<0.7.0,>=0.6.0 (from rdflib)\n",
            "  Downloading isodate-0.6.1-py2.py3-none-any.whl (41 kB)\n",
            "\u001b[2K     \u001b[90m━━━━━━━━━━━━━━━━━━━━━━━━━━━━━━━━━━━━━━━━\u001b[0m \u001b[32m41.7/41.7 kB\u001b[0m \u001b[31m3.9 MB/s\u001b[0m eta \u001b[36m0:00:00\u001b[0m\n",
            "\u001b[?25hRequirement already satisfied: pyparsing<4,>=2.1.0 in /usr/local/lib/python3.10/dist-packages (from rdflib) (3.1.1)\n",
            "Requirement already satisfied: six in /usr/local/lib/python3.10/dist-packages (from isodate<0.7.0,>=0.6.0->rdflib) (1.16.0)\n",
            "Installing collected packages: isodate, rdflib\n",
            "Successfully installed isodate-0.6.1 rdflib-7.0.0\n"
          ]
        }
      ],
      "source": [
        "!pip install rdflib"
      ]
    },
    {
      "cell_type": "code",
      "source": [
        "from rdflib import Graph, URIRef, BNode, Literal, Namespace"
      ],
      "metadata": {
        "id": "oCOhyxbTIk1O"
      },
      "execution_count": null,
      "outputs": []
    },
    {
      "cell_type": "markdown",
      "source": [],
      "metadata": {
        "id": "Miyk-kKtIf8r"
      }
    },
    {
      "cell_type": "markdown",
      "source": [
        "Initialise"
      ],
      "metadata": {
        "id": "sTq5ew64MkbK"
      }
    },
    {
      "cell_type": "code",
      "source": [
        "dg = Graph()"
      ],
      "metadata": {
        "id": "vBiXn0lqIsyT"
      },
      "execution_count": null,
      "outputs": []
    },
    {
      "cell_type": "markdown",
      "source": [
        "Namespaces"
      ],
      "metadata": {
        "id": "j7k1hHO2MnN0"
      }
    },
    {
      "cell_type": "code",
      "source": [
        "exampleds = Namespace(\"https://data.gov.gr/id/dataset/\")"
      ],
      "metadata": {
        "id": "VU-Z8dPsIyaE"
      },
      "execution_count": null,
      "outputs": []
    },
    {
      "cell_type": "code",
      "source": [
        "dct = Namespace(\"http://purl.org/dc/terms/\")"
      ],
      "metadata": {
        "id": "yzEp3UCJONZI"
      },
      "execution_count": null,
      "outputs": []
    },
    {
      "cell_type": "code",
      "source": [
        "from rdflib.namespace import DC, DCAT, DCTERMS, RDF, FOAF, RDFS, ORG"
      ],
      "metadata": {
        "id": "ayTL3SRBMcaC"
      },
      "execution_count": null,
      "outputs": []
    },
    {
      "cell_type": "code",
      "source": [
        "beea = exampleds['BeePopulation']"
      ],
      "metadata": {
        "id": "KCCPJ2PeNyuX"
      },
      "execution_count": null,
      "outputs": []
    },
    {
      "cell_type": "code",
      "source": [
        "beea"
      ],
      "metadata": {
        "colab": {
          "base_uri": "https://localhost:8080/",
          "height": 34
        },
        "id": "3TSrdQF1N3er",
        "outputId": "b0b9d39f-4f12-4bad-b312-0f22377377c3"
      },
      "execution_count": null,
      "outputs": [
        {
          "output_type": "execute_result",
          "data": {
            "text/plain": [
              "rdflib.term.URIRef('https://data.gov.gr/id/dataset/BeePopulation')"
            ],
            "application/vnd.google.colaboratory.intrinsic+json": {
              "type": "string"
            }
          },
          "metadata": {},
          "execution_count": 48
        }
      ]
    },
    {
      "cell_type": "code",
      "source": [
        "beeb = exampleds.BeePopulation"
      ],
      "metadata": {
        "id": "24FeHmxUN9M1"
      },
      "execution_count": null,
      "outputs": []
    },
    {
      "cell_type": "code",
      "source": [
        "beeb"
      ],
      "metadata": {
        "colab": {
          "base_uri": "https://localhost:8080/",
          "height": 34
        },
        "id": "Pce_m98yN_tT",
        "outputId": "639b4489-f480-499e-c9e5-4f2e322719e1"
      },
      "execution_count": null,
      "outputs": [
        {
          "output_type": "execute_result",
          "data": {
            "text/plain": [
              "rdflib.term.URIRef('https://data.gov.gr/id/dataset/BeePopulation')"
            ],
            "application/vnd.google.colaboratory.intrinsic+json": {
              "type": "string"
            }
          },
          "metadata": {},
          "execution_count": 50
        }
      ]
    },
    {
      "cell_type": "code",
      "source": [
        "dg.bind('exampleds', exampleds) # bind the namespace to the graph"
      ],
      "metadata": {
        "id": "Jglf2zuDTI2X"
      },
      "execution_count": null,
      "outputs": []
    },
    {
      "cell_type": "markdown",
      "source": [
        "Populate"
      ],
      "metadata": {
        "id": "lvg-U9hCM5lf"
      }
    },
    {
      "cell_type": "code",
      "source": [
        "dg.bind('dct', DCTERMS) # bind dcterms as dct"
      ],
      "metadata": {
        "id": "ezVT1D1zTXRE"
      },
      "execution_count": null,
      "outputs": []
    },
    {
      "cell_type": "code",
      "source": [
        "dg.add((exampleds.BeePopulation,RDF.type,DCAT.dataset))"
      ],
      "metadata": {
        "colab": {
          "base_uri": "https://localhost:8080/"
        },
        "id": "5k6ttWVPMvwU",
        "outputId": "dba98c65-f807-41d3-e696-5432717c699c"
      },
      "execution_count": null,
      "outputs": [
        {
          "output_type": "execute_result",
          "data": {
            "text/plain": [
              "<Graph identifier=Ne5325606ee1e49d3a6390127a0e30809 (<class 'rdflib.graph.Graph'>)>"
            ]
          },
          "metadata": {},
          "execution_count": 53
        }
      ]
    },
    {
      "cell_type": "code",
      "source": [
        "print(dg.serialize())"
      ],
      "metadata": {
        "colab": {
          "base_uri": "https://localhost:8080/"
        },
        "id": "OrADn5WENGl-",
        "outputId": "8c24beb0-b987-4eb4-9892-9c20333e5c7f"
      },
      "execution_count": null,
      "outputs": [
        {
          "output_type": "stream",
          "name": "stdout",
          "text": [
            "@prefix dcat: <http://www.w3.org/ns/dcat#> .\n",
            "@prefix exampleds: <https://data.gov.gr/id/dataset/> .\n",
            "\n",
            "exampleds:BeePopulation a dcat:dataset .\n",
            "\n",
            "\n"
          ]
        }
      ]
    },
    {
      "cell_type": "code",
      "source": [
        "dg.add((exampleds.BeePopulation,DCTERMS.title,Literal(\"Bee population\",lang='en')))"
      ],
      "metadata": {
        "colab": {
          "base_uri": "https://localhost:8080/"
        },
        "id": "p0KB3a4iNria",
        "outputId": "0ed5e046-f678-4d13-d5e9-86ec0a154127"
      },
      "execution_count": null,
      "outputs": [
        {
          "output_type": "execute_result",
          "data": {
            "text/plain": [
              "<Graph identifier=Ne5325606ee1e49d3a6390127a0e30809 (<class 'rdflib.graph.Graph'>)>"
            ]
          },
          "metadata": {},
          "execution_count": 55
        }
      ]
    },
    {
      "cell_type": "code",
      "source": [
        "print(dg.serialize())"
      ],
      "metadata": {
        "colab": {
          "base_uri": "https://localhost:8080/"
        },
        "id": "YemFqaiNPLmz",
        "outputId": "59602fdf-b59e-4b9d-8a30-1393bb639e94"
      },
      "execution_count": null,
      "outputs": [
        {
          "output_type": "stream",
          "name": "stdout",
          "text": [
            "@prefix dcat: <http://www.w3.org/ns/dcat#> .\n",
            "@prefix dct: <http://purl.org/dc/terms/> .\n",
            "@prefix exampleds: <https://data.gov.gr/id/dataset/> .\n",
            "\n",
            "exampleds:BeePopulation a dcat:dataset ;\n",
            "    dct:title \"Bee population\"@en .\n",
            "\n",
            "\n"
          ]
        }
      ]
    },
    {
      "cell_type": "code",
      "source": [
        "dg.add((exampleds.BeePopulation,DCTERMS.description,Literal(\"A dataset about bee population in Greece\",lang='en')))"
      ],
      "metadata": {
        "colab": {
          "base_uri": "https://localhost:8080/"
        },
        "id": "B0X4--QrPyNI",
        "outputId": "cf5dba68-8fef-4a2b-9dc1-fab679289897"
      },
      "execution_count": null,
      "outputs": [
        {
          "output_type": "execute_result",
          "data": {
            "text/plain": [
              "<Graph identifier=Ne5325606ee1e49d3a6390127a0e30809 (<class 'rdflib.graph.Graph'>)>"
            ]
          },
          "metadata": {},
          "execution_count": 57
        }
      ]
    },
    {
      "cell_type": "code",
      "source": [
        "print(dg.serialize())"
      ],
      "metadata": {
        "colab": {
          "base_uri": "https://localhost:8080/"
        },
        "id": "qBEb7P0AQPQX",
        "outputId": "ba93943e-6912-4e01-df6f-2ff2212a9f30"
      },
      "execution_count": null,
      "outputs": [
        {
          "output_type": "stream",
          "name": "stdout",
          "text": [
            "@prefix dcat: <http://www.w3.org/ns/dcat#> .\n",
            "@prefix dct: <http://purl.org/dc/terms/> .\n",
            "@prefix exampleds: <https://data.gov.gr/id/dataset/> .\n",
            "\n",
            "exampleds:BeePopulation a dcat:dataset ;\n",
            "    dct:description \"A dataset about bee population in Greece\"@en ;\n",
            "    dct:title \"Bee population\"@en .\n",
            "\n",
            "\n"
          ]
        }
      ]
    },
    {
      "cell_type": "code",
      "source": [
        "dg.add((exampleds.BeePopulation,DCTERMS.publisher,URIRef(\"https://agencies.gov.gr/id/GreekEnvironmentAgency\")))"
      ],
      "metadata": {
        "colab": {
          "base_uri": "https://localhost:8080/"
        },
        "id": "WTqehYc6QTpX",
        "outputId": "997c4163-253e-4ce3-fede-40742cfd9872"
      },
      "execution_count": null,
      "outputs": [
        {
          "output_type": "execute_result",
          "data": {
            "text/plain": [
              "<Graph identifier=Ne5325606ee1e49d3a6390127a0e30809 (<class 'rdflib.graph.Graph'>)>"
            ]
          },
          "metadata": {},
          "execution_count": 59
        }
      ]
    },
    {
      "cell_type": "code",
      "source": [
        "print(dg.serialize())"
      ],
      "metadata": {
        "colab": {
          "base_uri": "https://localhost:8080/"
        },
        "id": "6Iuf0LHWRFg1",
        "outputId": "1643d414-6f56-4179-bb2c-25a576449cc1"
      },
      "execution_count": null,
      "outputs": [
        {
          "output_type": "stream",
          "name": "stdout",
          "text": [
            "@prefix dcat: <http://www.w3.org/ns/dcat#> .\n",
            "@prefix dct: <http://purl.org/dc/terms/> .\n",
            "@prefix exampleds: <https://data.gov.gr/id/dataset/> .\n",
            "\n",
            "exampleds:BeePopulation a dcat:dataset ;\n",
            "    dct:description \"A dataset about bee population in Greece\"@en ;\n",
            "    dct:publisher <https://agencies.gov.gr/id/GreekEnvironmentAgency> ;\n",
            "    dct:title \"Bee population\"@en .\n",
            "\n",
            "\n"
          ]
        }
      ]
    },
    {
      "cell_type": "markdown",
      "source": [
        "## Save"
      ],
      "metadata": {
        "id": "XnXolHRURU4p"
      }
    },
    {
      "cell_type": "code",
      "source": [
        "dg.serialize(destination=\"bees_manual.ttl\")"
      ],
      "metadata": {
        "colab": {
          "base_uri": "https://localhost:8080/"
        },
        "id": "lFlZpsj_RHDs",
        "outputId": "ff4eb9d4-b207-4ef8-93dc-4b242e0d87b6"
      },
      "execution_count": null,
      "outputs": [
        {
          "output_type": "execute_result",
          "data": {
            "text/plain": [
              "<Graph identifier=Ne5325606ee1e49d3a6390127a0e30809 (<class 'rdflib.graph.Graph'>)>"
            ]
          },
          "metadata": {},
          "execution_count": 61
        }
      ]
    },
    {
      "cell_type": "code",
      "source": [
        "dg.serialize(format=\"xml\",destination=\"bees_manual.xml\")"
      ],
      "metadata": {
        "colab": {
          "base_uri": "https://localhost:8080/"
        },
        "id": "VLwwzdJmRdKD",
        "outputId": "c358c9b4-e4fa-46f0-aeb1-b92705347b3d"
      },
      "execution_count": null,
      "outputs": [
        {
          "output_type": "execute_result",
          "data": {
            "text/plain": [
              "<Graph identifier=Ne5325606ee1e49d3a6390127a0e30809 (<class 'rdflib.graph.Graph'>)>"
            ]
          },
          "metadata": {},
          "execution_count": 62
        }
      ]
    },
    {
      "cell_type": "code",
      "source": [
        "dg.serialize(format=\"json-ld\",destination=\"bees_manual.jsonld\")"
      ],
      "metadata": {
        "colab": {
          "base_uri": "https://localhost:8080/"
        },
        "id": "x1rgv2fURtwQ",
        "outputId": "195e4ef9-4aa4-4043-91c8-b418a2d18d4d"
      },
      "execution_count": null,
      "outputs": [
        {
          "output_type": "execute_result",
          "data": {
            "text/plain": [
              "<Graph identifier=Ne5325606ee1e49d3a6390127a0e30809 (<class 'rdflib.graph.Graph'>)>"
            ]
          },
          "metadata": {},
          "execution_count": 63
        }
      ]
    },
    {
      "cell_type": "code",
      "source": [
        "dg.serialize()"
      ],
      "metadata": {
        "id": "xMYWz3vTRw_O"
      },
      "execution_count": null,
      "outputs": []
    },
    {
      "cell_type": "markdown",
      "source": [
        "##"
      ],
      "metadata": {
        "id": "GHw-cdCyaK4P"
      }
    },
    {
      "cell_type": "markdown",
      "source": [
        "## Expanded example"
      ],
      "metadata": {
        "id": "T02LN3kwoocP"
      }
    },
    {
      "cell_type": "code",
      "source": [
        "ssorg = Namespace(\"https://www.sciensano.be/en/about-sciensano/sciensanos-organisation/\")"
      ],
      "metadata": {
        "id": "mEh7NO5AotEE"
      },
      "execution_count": null,
      "outputs": []
    },
    {
      "cell_type": "code",
      "source": [
        "ssterms = Namespace(\"https://www.sciensano.be/terms/\")"
      ],
      "metadata": {
        "id": "F9eue-mMsn3a"
      },
      "execution_count": null,
      "outputs": []
    },
    {
      "cell_type": "code",
      "source": [
        "dg3 = Graph()\n",
        "dg3.bind('ssorg',ssorg)\n",
        "dg3.bind('ssterms',ssterms)"
      ],
      "metadata": {
        "id": "IrscaEyDqg5j"
      },
      "execution_count": null,
      "outputs": []
    },
    {
      "cell_type": "code",
      "source": [
        "dg3.add((ssorg[\"managing-director\"],RDF.type,ORG.Organization))\n",
        "\n",
        "dg3.add((ssorg[\"medicines-and-health-products\"],RDF.type,ORG.OrganizationalUnit))\n",
        "dg3.add((ssorg[\"managing-director\"],ORG.hasUnit,ssorg[\"medicines-and-health-products\"]))"
      ],
      "metadata": {
        "colab": {
          "base_uri": "https://localhost:8080/"
        },
        "id": "pMW3QdvzpOTK",
        "outputId": "d4804e12-656d-4711-8db6-505a6b26e201"
      },
      "execution_count": null,
      "outputs": [
        {
          "output_type": "execute_result",
          "data": {
            "text/plain": [
              "<Graph identifier=N1513c3cd456241b1bdd5bfbf3c7e2298 (<class 'rdflib.graph.Graph'>)>"
            ]
          },
          "metadata": {},
          "execution_count": 229
        }
      ]
    },
    {
      "cell_type": "code",
      "source": [
        "print(dg3.serialize())"
      ],
      "metadata": {
        "colab": {
          "base_uri": "https://localhost:8080/"
        },
        "id": "-EJIXl6WqmOj",
        "outputId": "256199ef-112b-4678-f6fa-bd0a4ca3e65f"
      },
      "execution_count": null,
      "outputs": [
        {
          "output_type": "stream",
          "name": "stdout",
          "text": [
            "@prefix org: <http://www.w3.org/ns/org#> .\n",
            "@prefix ssorg: <https://www.sciensano.be/en/about-sciensano/sciensanos-organisation/> .\n",
            "\n",
            "ssorg:managing-director a org:Organization ;\n",
            "    org:hasUnit ssorg:medicines-and-health-products .\n",
            "\n",
            "ssorg:medicines-and-health-products a org:OrganizationalUnit .\n",
            "\n",
            "\n"
          ]
        }
      ]
    },
    {
      "cell_type": "code",
      "source": [
        "dg2 = Graph()\n",
        "dg2.bind('exampleds', exampleds) # bind the namespace to the graph\n",
        "dg2.bind('dct', DCTERMS) # bind dcterms as dct"
      ],
      "metadata": {
        "id": "TkuF0MW1aLhi"
      },
      "execution_count": null,
      "outputs": []
    },
    {
      "cell_type": "code",
      "source": [
        "dg2.add((exampleds.BeePopulation,RDF.type,DCAT.dataset))\n",
        "dg2.add((exampleds.BeePopulation,DCTERMS.title,Literal(\"Bee population\",lang='en')))\n",
        "dg2.add((exampleds.BeePopulation,DCTERMS.description,Literal(\"A dataset about bee population in Greece\",lang='en')))\n",
        "dg2.add((exampleds.BeePopulation,DCTERMS.publisher,URIRef(\"https://agencies.gov.gr/id/GreekEnvironmentAgency\")))"
      ],
      "metadata": {
        "colab": {
          "base_uri": "https://localhost:8080/"
        },
        "id": "uLjO2xFSaZm-",
        "outputId": "bff6e382-edea-4436-8d90-836701d1fc51"
      },
      "execution_count": null,
      "outputs": [
        {
          "output_type": "execute_result",
          "data": {
            "text/plain": [
              "<Graph identifier=N381f89dcd85848fda89a4d108f83ceb9 (<class 'rdflib.graph.Graph'>)>"
            ]
          },
          "metadata": {},
          "execution_count": 232
        }
      ]
    },
    {
      "cell_type": "code",
      "source": [
        "# Title, description in nl, fr\n",
        "dg2.add((exampleds.BeePopulation,DCTERMS.title,Literal(\"Population d'abeilles\",lang='fr')))\n",
        "dg2.add((exampleds.BeePopulation,DCTERMS.description,Literal(\"Un ensemble de données sur la population d'abeilles en Grèce.\",lang='fr')))\n",
        "\n",
        "dg2.add((exampleds.BeePopulation,DCTERMS.title,Literal(\"Bijenpopulatie\",lang='nl')))\n",
        "dg2.add((exampleds.BeePopulation,DCTERMS.description,Literal(\"Een dataset over de bijenpopulatie in Griekenland.\",lang='nl')))"
      ],
      "metadata": {
        "colab": {
          "base_uri": "https://localhost:8080/"
        },
        "id": "CdLlQo0IavP0",
        "outputId": "fbe39cf4-201f-4324-f8bf-c59fc9236a21"
      },
      "execution_count": null,
      "outputs": [
        {
          "output_type": "execute_result",
          "data": {
            "text/plain": [
              "<Graph identifier=N381f89dcd85848fda89a4d108f83ceb9 (<class 'rdflib.graph.Graph'>)>"
            ]
          },
          "metadata": {},
          "execution_count": 233
        }
      ]
    },
    {
      "cell_type": "code",
      "source": [
        "# Keywords\n",
        "dg2.add((exampleds.BeePopulation,DCAT.keyword,Literal(\"Animal\",lang='en')))\n",
        "dg2.add((exampleds.BeePopulation,DCAT.keyword,Literal(\"Dier\",lang='nl')))\n",
        "dg2.add((exampleds.BeePopulation,DCAT.keyword,Literal(\"Animal\",lang='fr')))"
      ],
      "metadata": {
        "colab": {
          "base_uri": "https://localhost:8080/"
        },
        "id": "AmBiKhxEbrDI",
        "outputId": "6aeaefb0-9176-4842-b168-8b5310c6213d"
      },
      "execution_count": null,
      "outputs": [
        {
          "output_type": "execute_result",
          "data": {
            "text/plain": [
              "<Graph identifier=N381f89dcd85848fda89a4d108f83ceb9 (<class 'rdflib.graph.Graph'>)>"
            ]
          },
          "metadata": {},
          "execution_count": 234
        }
      ]
    },
    {
      "cell_type": "code",
      "source": [
        "#\n",
        "dg2.add((URIRef(\"Sciensano\"),RDF.type,FOAF.Organization))\n",
        "dg2.add((URIRef(\"Sciensano\"),RDFS.label,Literal(\"Sciensano\",lang=\"en\")))"
      ],
      "metadata": {
        "colab": {
          "base_uri": "https://localhost:8080/"
        },
        "id": "GSXChrUlch77",
        "outputId": "a323c802-ab65-4be9-b5a4-8b5ad9960551"
      },
      "execution_count": null,
      "outputs": [
        {
          "output_type": "execute_result",
          "data": {
            "text/plain": [
              "<Graph identifier=N381f89dcd85848fda89a4d108f83ceb9 (<class 'rdflib.graph.Graph'>)>"
            ]
          },
          "metadata": {},
          "execution_count": 235
        }
      ]
    },
    {
      "cell_type": "code",
      "source": [
        "dg2.add((URIRef(\"Sciensano\"),RDF.type,FOAF.Agent))\n",
        "dg2.add((URIRef(\"Sciensano\"),RDFS.label,Literal(\"Sciensano\",lang=\"en\")))\n",
        "dg2.add((exampleds.BeePopulation,DCTERMS.publisher,URIRef(\"Sciensano\")))"
      ],
      "metadata": {
        "colab": {
          "base_uri": "https://localhost:8080/"
        },
        "id": "DEiCvjPDd81v",
        "outputId": "040bdda6-afff-43be-c0b1-9a3ee74baadc"
      },
      "execution_count": null,
      "outputs": [
        {
          "output_type": "execute_result",
          "data": {
            "text/plain": [
              "<Graph identifier=N381f89dcd85848fda89a4d108f83ceb9 (<class 'rdflib.graph.Graph'>)>"
            ]
          },
          "metadata": {},
          "execution_count": 236
        }
      ]
    },
    {
      "cell_type": "code",
      "source": [
        "flag_expl = False\n",
        "if flag_expl:\n",
        "  varjane = URIRef(\"JaneDoe\")\n",
        "else:\n",
        "  varjane = BNode(\"JaneDoe\")\n",
        "\n",
        "dg2.add((exampleds.BeePopulation,DCAT.contactPoint,varjane))"
      ],
      "metadata": {
        "colab": {
          "base_uri": "https://localhost:8080/"
        },
        "id": "3ct8GarhgCVR",
        "outputId": "13617e2c-b5b3-42cb-843b-f73f418348bc"
      },
      "execution_count": null,
      "outputs": [
        {
          "output_type": "execute_result",
          "data": {
            "text/plain": [
              "<Graph identifier=N381f89dcd85848fda89a4d108f83ceb9 (<class 'rdflib.graph.Graph'>)>"
            ]
          },
          "metadata": {},
          "execution_count": 237
        }
      ]
    },
    {
      "cell_type": "code",
      "source": [
        "# https://www.w3.org/submissions/vcard-rdf/"
      ],
      "metadata": {
        "id": "MM8LRYS6j32d"
      },
      "execution_count": null,
      "outputs": []
    },
    {
      "cell_type": "code",
      "source": [
        "vcard = Namespace(\"http://www.w3.org/2006/vcard/ns#\")"
      ],
      "metadata": {
        "id": "BoJte4RZigOi"
      },
      "execution_count": null,
      "outputs": []
    },
    {
      "cell_type": "code",
      "source": [
        "dg2.bind('v', vcard) # bind the namespace to the graph"
      ],
      "metadata": {
        "id": "W0kAIM2ai-mt"
      },
      "execution_count": null,
      "outputs": []
    },
    {
      "cell_type": "code",
      "source": [
        "dg2.add((varjane,RDF.type,vcard.VCard))\n",
        "dg2.add((varjane,vcard.fn,Literal(\"Jane Doe\")))\n",
        "dg2.add((varjane,vcard.email,URIRef(\"mailto:janedoe.example.com\")))"
      ],
      "metadata": {
        "colab": {
          "base_uri": "https://localhost:8080/"
        },
        "id": "N2MMcXnwiZ6L",
        "outputId": "689d08cc-db6f-42a4-adde-0d873cfc73d1"
      },
      "execution_count": null,
      "outputs": [
        {
          "output_type": "execute_result",
          "data": {
            "text/plain": [
              "<Graph identifier=N381f89dcd85848fda89a4d108f83ceb9 (<class 'rdflib.graph.Graph'>)>"
            ]
          },
          "metadata": {},
          "execution_count": 241
        }
      ]
    },
    {
      "cell_type": "code",
      "source": [
        "print(dg2.serialize())"
      ],
      "metadata": {
        "colab": {
          "base_uri": "https://localhost:8080/"
        },
        "id": "oADFBM6uanYw",
        "outputId": "f2e698d4-9cbb-4be1-9a04-b725e3265050"
      },
      "execution_count": null,
      "outputs": [
        {
          "output_type": "stream",
          "name": "stdout",
          "text": [
            "@prefix dcat: <http://www.w3.org/ns/dcat#> .\n",
            "@prefix dct: <http://purl.org/dc/terms/> .\n",
            "@prefix exampleds: <https://data.gov.gr/id/dataset/> .\n",
            "@prefix foaf: <http://xmlns.com/foaf/0.1/> .\n",
            "@prefix rdfs: <http://www.w3.org/2000/01/rdf-schema#> .\n",
            "@prefix v: <http://www.w3.org/2006/vcard/ns#> .\n",
            "\n",
            "exampleds:BeePopulation a dcat:dataset ;\n",
            "    dct:description \"A dataset about bee population in Greece\"@en,\n",
            "        \"Un ensemble de données sur la population d'abeilles en Grèce.\"@fr,\n",
            "        \"Een dataset over de bijenpopulatie in Griekenland.\"@nl ;\n",
            "    dct:publisher <Sciensano>,\n",
            "        <https://agencies.gov.gr/id/GreekEnvironmentAgency> ;\n",
            "    dct:title \"Bee population\"@en,\n",
            "        \"Population d'abeilles\"@fr,\n",
            "        \"Bijenpopulatie\"@nl ;\n",
            "    dcat:contactPoint [ a v:VCard ;\n",
            "            v:email <mailto:janedoe.example.com> ;\n",
            "            v:fn \"Jane Doe\" ] ;\n",
            "    dcat:keyword \"Animal\"@en,\n",
            "        \"Animal\"@fr,\n",
            "        \"Dier\"@nl .\n",
            "\n",
            "<Sciensano> a foaf:Agent,\n",
            "        foaf:Organization ;\n",
            "    rdfs:label \"Sciensano\"@en .\n",
            "\n",
            "\n"
          ]
        }
      ]
    },
    {
      "cell_type": "code",
      "source": [
        "dg2 = dg2 + dg3"
      ],
      "metadata": {
        "id": "_JlGyIDKrv8M"
      },
      "execution_count": null,
      "outputs": []
    },
    {
      "cell_type": "code",
      "source": [
        "dg2.add((exampleds.BeePopulation,ssterms['Unit'],ssorg['medicines-and-health-products']))"
      ],
      "metadata": {
        "colab": {
          "base_uri": "https://localhost:8080/"
        },
        "id": "p9NvrVlHuwqx",
        "outputId": "2c533ad0-fd51-4a6f-cfb0-aca163c98f7d"
      },
      "execution_count": null,
      "outputs": [
        {
          "output_type": "execute_result",
          "data": {
            "text/plain": [
              "<Graph identifier=N5ecde6d65b214c6f8d675dac78212ba7 (<class 'rdflib.graph.Graph'>)>"
            ]
          },
          "metadata": {},
          "execution_count": 246
        }
      ]
    },
    {
      "cell_type": "code",
      "source": [
        "print(dg2.serialize())"
      ],
      "metadata": {
        "colab": {
          "base_uri": "https://localhost:8080/"
        },
        "id": "14uxexZCrzF_",
        "outputId": "485a26a3-c26b-4888-b9f8-a81a9a5fd0b8"
      },
      "execution_count": null,
      "outputs": [
        {
          "output_type": "stream",
          "name": "stdout",
          "text": [
            "@prefix dcat: <http://www.w3.org/ns/dcat#> .\n",
            "@prefix dct: <http://purl.org/dc/terms/> .\n",
            "@prefix exampleds: <https://data.gov.gr/id/dataset/> .\n",
            "@prefix foaf: <http://xmlns.com/foaf/0.1/> .\n",
            "@prefix org: <http://www.w3.org/ns/org#> .\n",
            "@prefix rdfs: <http://www.w3.org/2000/01/rdf-schema#> .\n",
            "@prefix ssorg: <https://www.sciensano.be/en/about-sciensano/sciensanos-organisation/> .\n",
            "@prefix ssterms: <https://www.sciensano.be/terms/> .\n",
            "@prefix v: <http://www.w3.org/2006/vcard/ns#> .\n",
            "\n",
            "exampleds:BeePopulation a dcat:dataset ;\n",
            "    dct:description \"A dataset about bee population in Greece\"@en,\n",
            "        \"Un ensemble de données sur la population d'abeilles en Grèce.\"@fr,\n",
            "        \"Een dataset over de bijenpopulatie in Griekenland.\"@nl ;\n",
            "    dct:publisher <Sciensano>,\n",
            "        <https://agencies.gov.gr/id/GreekEnvironmentAgency> ;\n",
            "    dct:title \"Bee population\"@en,\n",
            "        \"Population d'abeilles\"@fr,\n",
            "        \"Bijenpopulatie\"@nl ;\n",
            "    dcat:contactPoint [ a v:VCard ;\n",
            "            v:email <mailto:janedoe.example.com> ;\n",
            "            v:fn \"Jane Doe\" ] ;\n",
            "    dcat:keyword \"Animal\"@en,\n",
            "        \"Animal\"@fr,\n",
            "        \"Dier\"@nl ;\n",
            "    ssterms:Unit ssorg:medicines-and-health-products .\n",
            "\n",
            "ssorg:managing-director a org:Organization ;\n",
            "    org:hasUnit ssorg:medicines-and-health-products .\n",
            "\n",
            "<Sciensano> a foaf:Agent,\n",
            "        foaf:Organization ;\n",
            "    rdfs:label \"Sciensano\"@en .\n",
            "\n",
            "ssorg:medicines-and-health-products a org:OrganizationalUnit .\n",
            "\n",
            "\n"
          ]
        }
      ]
    },
    {
      "cell_type": "markdown",
      "source": [],
      "metadata": {
        "id": "GOTHIyYcaW-m"
      }
    }
  ]
}